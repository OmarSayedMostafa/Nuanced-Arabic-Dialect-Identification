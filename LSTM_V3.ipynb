{
 "cells": [
  {
   "cell_type": "code",
   "execution_count": 1,
   "metadata": {},
   "outputs": [
    {
     "name": "stderr",
     "output_type": "stream",
     "text": [
      "C:\\Users\\Mena\\Anaconda3\\lib\\site-packages\\gensim\\utils.py:1197: UserWarning: detected Windows; aliasing chunkize to chunkize_serial\n",
      "  warnings.warn(\"detected Windows; aliasing chunkize to chunkize_serial\")\n"
     ]
    },
    {
     "name": "stdout",
     "output_type": "stream",
     "text": [
      "Train set: (20974, 8) 20974\n",
      "Test set: (4997, 8) 4997\n"
     ]
    }
   ],
   "source": [
    "import pandas as pd\n",
    "import numpy as np\n",
    "from IPython.display import display\n",
    "import matplotlib.pyplot as plt\n",
    "\n",
    "from imblearn.over_sampling import SMOTE\n",
    "import gensim\n",
    "\n",
    "from sklearn.model_selection import train_test_split\n",
    "from sklearn.linear_model import SGDClassifier\n",
    "from sklearn.naive_bayes import MultinomialNB\n",
    "from sklearn.pipeline import Pipeline\n",
    "from sklearn.feature_extraction.text import TfidfTransformer\n",
    "from sklearn.feature_extraction.text import CountVectorizer\n",
    "from sklearn.metrics import f1_score\n",
    "from sklearn.metrics import precision_recall_curve, precision_score, recall_score\n",
    "from sklearn.metrics import classification_report\n",
    "\n",
    "from sklearn.metrics import classification_report, f1_score\n",
    "\n",
    "\n",
    "#text is already cleaned.\n",
    "#assign cleaned data to these variables.\n",
    "train_data_path = 'cleaned_data/cleaned_train_data_for_subtask1.csv'\n",
    "test_data_path = 'cleaned_data/cleaned_test_data_for_subtask1.csv'\n",
    "#read files.\n",
    "train_data = pd.read_csv(train_data_path)\n",
    "test_data = pd.read_csv(test_data_path)\n",
    "\n",
    "print(\"Train set:\"% train_data.columns, train_data.shape, len(train_data)) \n",
    "print(\"Test set:\"% test_data.columns, test_data.shape, len(test_data)) \n",
    "\n"
   ]
  },
  {
   "cell_type": "code",
   "execution_count": 2,
   "metadata": {},
   "outputs": [],
   "source": [
    "#prepare train and test data.\n",
    "X_train = train_data['#2_tweet_clean_V3']\n",
    "y_train = train_data['#classes_id']\n",
    "X_test = test_data['#2_tweet_clean_V3']\n",
    "y_test = test_data['#classes_id']"
   ]
  },
  {
   "cell_type": "code",
   "execution_count": 3,
   "metadata": {},
   "outputs": [
    {
     "name": "stdout",
     "output_type": "stream",
     "text": [
      "Found 48685 unique tokens.\n",
      "Found 17156 unique tokens.\n"
     ]
    }
   ],
   "source": [
    "from tensorflow.keras.preprocessing.text import Tokenizer\n",
    "\n",
    "max_no = 50000\n",
    "sql_len = 250\n",
    "dim = 100\n",
    "\n",
    "tokenizer = Tokenizer(num_words=max_no, filters='!\"#$%&()*+,-./:;<=>?@[\\]^_`{|}~', lower=False)\n",
    "tokenizer.fit_on_texts(X_train.values)\n",
    "word_index = tokenizer.word_index\n",
    "print('Found %s unique tokens.' % len(word_index))\n",
    "\n",
    "tokenizer = Tokenizer(num_words=max_no, filters='!\"#$%&()*+,-./:;<=>?@[\\]^_`{|}~', lower=False)\n",
    "tokenizer.fit_on_texts(X_test.values)\n",
    "word_index = tokenizer.word_index\n",
    "print('Found %s unique tokens.' % len(word_index))"
   ]
  },
  {
   "cell_type": "code",
   "execution_count": 4,
   "metadata": {},
   "outputs": [
    {
     "name": "stdout",
     "output_type": "stream",
     "text": [
      "Shape of data tensor: (20974, 250)\n",
      "Shape of data tensor: (4997, 250)\n"
     ]
    }
   ],
   "source": [
    "from tensorflow.keras.preprocessing.sequence import pad_sequences\n",
    "\n",
    "\n",
    "X_tr = tokenizer.texts_to_sequences(X_train.values)\n",
    "X_tr = pad_sequences(X_tr, maxlen=sql_len)\n",
    "print('Shape of data tensor:', X_tr.shape)\n",
    "\n",
    "X_te = tokenizer.texts_to_sequences(X_test.values)\n",
    "X_te = pad_sequences(X_te, maxlen=sql_len)\n",
    "print('Shape of data tensor:', X_te.shape)\n"
   ]
  },
  {
   "cell_type": "code",
   "execution_count": 5,
   "metadata": {},
   "outputs": [
    {
     "name": "stdout",
     "output_type": "stream",
     "text": [
      "Shape of label tensor: (20974, 21)\n",
      "Shape of label tensor: (4997, 21)\n"
     ]
    }
   ],
   "source": [
    "Y_tr = pd.get_dummies(y_train).values\n",
    "print('Shape of label tensor:', Y_tr.shape)\n",
    "\n",
    "Y_te = pd.get_dummies(y_test).values\n",
    "print('Shape of label tensor:', Y_te.shape)"
   ]
  },
  {
   "cell_type": "code",
   "execution_count": 7,
   "metadata": {},
   "outputs": [
    {
     "name": "stdout",
     "output_type": "stream",
     "text": [
      "Train on 14681 samples, validate on 6293 samples\n",
      "Epoch 1/20\n",
      "14681/14681 [==============================] - 261s 18ms/step - loss: 2.6343 - accuracy: 0.2097 - val_loss: 2.5464 - val_accuracy: 0.2547\n",
      "Epoch 2/20\n",
      "14681/14681 [==============================] - 320s 22ms/step - loss: 2.3768 - accuracy: 0.3118 - val_loss: 2.3889 - val_accuracy: 0.3013\n",
      "Epoch 3/20\n",
      "14681/14681 [==============================] - 387s 26ms/step - loss: 2.0611 - accuracy: 0.4118 - val_loss: 2.3498 - val_accuracy: 0.3240\n",
      "Epoch 4/20\n",
      "14681/14681 [==============================] - 369s 25ms/step - loss: 1.7577 - accuracy: 0.4964 - val_loss: 2.4299 - val_accuracy: 0.3273\n",
      "Epoch 5/20\n",
      "14681/14681 [==============================] - 364s 25ms/step - loss: 1.5093 - accuracy: 0.5651 - val_loss: 2.5680 - val_accuracy: 0.3248\n",
      "Epoch 6/20\n",
      "14681/14681 [==============================] - 360s 25ms/step - loss: 1.4074 - accuracy: 0.6034 - val_loss: 2.6816 - val_accuracy: 0.3189\n",
      "Epoch 7/20\n",
      "14681/14681 [==============================] - 385s 26ms/step - loss: 1.1834 - accuracy: 0.6582 - val_loss: 2.8275 - val_accuracy: 0.3091\n",
      "Epoch 8/20\n",
      "14681/14681 [==============================] - 370s 25ms/step - loss: 1.0470 - accuracy: 0.6958 - val_loss: 3.0157 - val_accuracy: 0.3083\n",
      "Epoch 9/20\n",
      "14681/14681 [==============================] - 358s 24ms/step - loss: 0.9382 - accuracy: 0.7262 - val_loss: 3.1516 - val_accuracy: 0.3005\n",
      "Epoch 10/20\n",
      "14681/14681 [==============================] - 361s 25ms/step - loss: 0.8620 - accuracy: 0.7470 - val_loss: 3.2938 - val_accuracy: 0.3005\n",
      "Epoch 11/20\n",
      "14681/14681 [==============================] - 356s 24ms/step - loss: 0.7889 - accuracy: 0.7642 - val_loss: 3.4258 - val_accuracy: 0.2981\n",
      "Epoch 12/20\n",
      "14681/14681 [==============================] - 358s 24ms/step - loss: 0.7330 - accuracy: 0.7782 - val_loss: 3.5563 - val_accuracy: 0.2941\n",
      "Epoch 13/20\n",
      "14681/14681 [==============================] - 358s 24ms/step - loss: 0.6849 - accuracy: 0.7926 - val_loss: 3.6955 - val_accuracy: 0.2916\n",
      "Epoch 14/20\n",
      "14681/14681 [==============================] - 351s 24ms/step - loss: 0.6479 - accuracy: 0.7960 - val_loss: 3.8402 - val_accuracy: 0.2914\n",
      "Epoch 15/20\n",
      "14681/14681 [==============================] - 378s 26ms/step - loss: 0.6131 - accuracy: 0.8083 - val_loss: 3.8851 - val_accuracy: 0.2854\n",
      "Epoch 16/20\n",
      "14681/14681 [==============================] - 361s 25ms/step - loss: 0.5882 - accuracy: 0.8120 - val_loss: 4.0350 - val_accuracy: 0.2870\n",
      "Epoch 17/20\n",
      "14681/14681 [==============================] - 348s 24ms/step - loss: 0.5618 - accuracy: 0.8228 - val_loss: 4.1062 - val_accuracy: 0.2814\n",
      "Epoch 18/20\n",
      "14681/14681 [==============================] - 359s 24ms/step - loss: 0.5445 - accuracy: 0.8292 - val_loss: 4.2134 - val_accuracy: 0.2889\n",
      "Epoch 19/20\n",
      "14681/14681 [==============================] - 354s 24ms/step - loss: 0.5227 - accuracy: 0.8343 - val_loss: 4.2777 - val_accuracy: 0.2862\n",
      "Epoch 20/20\n",
      "14681/14681 [==============================] - 348s 24ms/step - loss: 0.5033 - accuracy: 0.8406 - val_loss: 4.4027 - val_accuracy: 0.2803\n"
     ]
    }
   ],
   "source": [
    "import keras\n",
    "import tensorflow\n",
    "from keras.layers import Embedding, SpatialDropout1D, LSTM, Dense\n",
    "#import tensorsflow_addons as tfa\n",
    "model = keras.Sequential()\n",
    "model.add(Embedding(max_no, dim, input_shape=(sql_len,)))\n",
    "model.add(SpatialDropout1D(0.2))\n",
    "model.add(LSTM(100, dropout=0.2, recurrent_dropout=0.2))\n",
    "model.add(Dense(21, activation='softmax'))\n",
    "model.compile(loss='categorical_crossentropy', optimizer='adam', metrics=['accuracy'])\n",
    "\n",
    "epochs = 20\n",
    "batch_size = 64\n",
    "\n",
    "history = model.fit(X_tr, Y_tr, epochs=epochs, batch_size=batch_size,validation_split=0.3)"
   ]
  },
  {
   "cell_type": "code",
   "execution_count": 9,
   "metadata": {},
   "outputs": [
    {
     "name": "stdout",
     "output_type": "stream",
     "text": [
      "0.14237240059889103\n"
     ]
    }
   ],
   "source": [
    "y_pred= model.predict(X_te)\n",
    "y_pred = np.argmax(y_pred, axis=1)\n",
    "y_test = test_data['#classes_id']\n",
    "Y_te = pd.get_dummies(y_test).values\n",
    "\n",
    "Y_te = np.argmax(Y_te, axis=1)\n",
    "print(f1_score(Y_te, y_pred, average='macro'))\n"
   ]
  },
  {
   "cell_type": "code",
   "execution_count": 10,
   "metadata": {},
   "outputs": [
    {
     "name": "stdout",
     "output_type": "stream",
     "text": [
      "                      precision    recall  f1-score   support\n",
      "\n",
      "               Egypt       0.53      0.55      0.54      1041\n",
      "                Iraq       0.36      0.39      0.38       663\n",
      "        Saudi_Arabia       0.20      0.21      0.21       519\n",
      "          Mauritania       0.19      0.25      0.21        53\n",
      "             Algeria       0.32      0.36      0.34       430\n",
      "               Syria       0.11      0.15      0.13       278\n",
      "                Oman       0.13      0.13      0.13       355\n",
      "             Tunisia       0.13      0.15      0.14       172\n",
      "             Lebanon       0.07      0.05      0.06       157\n",
      "             Morocco       0.09      0.09      0.09       207\n",
      "            Djibouti       0.00      0.00      0.00        27\n",
      "United_Arab_Emirates       0.11      0.08      0.09       157\n",
      "              Kuwait       0.07      0.08      0.07       105\n",
      "               Libya       0.24      0.19      0.21       314\n",
      "             Bahrain       0.00      0.00      0.00        52\n",
      "               Qatar       0.00      0.00      0.00        52\n",
      "               Yemen       0.06      0.05      0.05       105\n",
      "           Palestine       0.13      0.10      0.11       104\n",
      "              Jordan       0.05      0.03      0.04       104\n",
      "             Somalia       0.17      0.08      0.11        49\n",
      "               Sudan       0.10      0.06      0.07        53\n",
      "\n",
      "         avg / total       0.26      0.27      0.27      4997\n",
      "\n"
     ]
    }
   ],
   "source": [
    "classes = list(train_data['#3_country_label'].unique())\n",
    "print(classification_report(Y_te, y_pred,target_names=classes))"
   ]
  },
  {
   "cell_type": "code",
   "execution_count": null,
   "metadata": {},
   "outputs": [],
   "source": []
  }
 ],
 "metadata": {
  "kernelspec": {
   "display_name": "Python 3",
   "language": "python",
   "name": "python3"
  },
  "language_info": {
   "codemirror_mode": {
    "name": "ipython",
    "version": 3
   },
   "file_extension": ".py",
   "mimetype": "text/x-python",
   "name": "python",
   "nbconvert_exporter": "python",
   "pygments_lexer": "ipython3",
   "version": "3.7.3"
  }
 },
 "nbformat": 4,
 "nbformat_minor": 2
}
