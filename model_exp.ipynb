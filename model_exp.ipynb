{
 "cells": [
  {
   "cell_type": "code",
   "execution_count": 5,
   "metadata": {
    "id": "h52kVYC9rxWi"
   },
   "outputs": [],
   "source": [
    "import warnings\n",
    "warnings.filterwarnings(\"ignore\", category=FutureWarning)\n",
    "import pandas as pd\n",
    "import re\n",
    "import random\n",
    "import string\n",
    "import matplotlib.pyplot as plt\n",
    "from utilities import clean_arabic_tweet\n",
    "import tensorflow as tf\n",
    "from tensorflow.keras.preprocessing.text import Tokenizer\n",
    "from tensorflow.keras.preprocessing.text import text_to_word_sequence\n",
    "from tensorflow.keras.utils import to_categorical\n",
    "from utilities import clean_arabic_tweet\n",
    "from tensorflow.keras.preprocessing.image import ImageDataGenerator\n",
    "from tensorflow.keras.callbacks import LearningRateScheduler, CSVLogger, EarlyStopping, ModelCheckpoint, TensorBoard\n",
    "from tensorflow.keras import optimizers\n",
    "from tensorflow.keras.models import Model\n",
    "import tensorflow.keras as keras\n",
    "from tensorflow.keras.models import Sequential\n",
    "from tensorflow.keras.layers import Dense, Dropout, Flatten\n",
    "from tensorflow.keras.layers import Conv2D, MaxPooling2D,BatchNormalization\n",
    "import tensorflow.keras.backend as K\n",
    "from tensorflow.keras.models import load_model\n",
    "\n",
    "from tensorflow.keras.preprocessing.sequence import pad_sequences\n",
    "import gensim\n",
    "import numpy as np\n",
    "from nltk import ngrams\n",
    "from sklearn.metrics import classification_report, f1_score\n",
    "from plot_keras_history import plot_history\n"
   ]
  },
  {
   "cell_type": "code",
   "execution_count": 6,
   "metadata": {
    "id": "u6qLev0pr2yk"
   },
   "outputs": [],
   "source": [
    "pd.set_option('display.max_colwidth', -1)"
   ]
  },
  {
   "cell_type": "code",
   "execution_count": 7,
   "metadata": {
    "id": "HUG_rMbgs9HO"
   },
   "outputs": [],
   "source": [
    "train_data_path = './cleaned_data/cleaned_train_data_for_subtask1.csv'\n",
    "test_data_path = './cleaned_data/cleaned_test_data_for_subtask1.csv'"
   ]
  },
  {
   "cell_type": "code",
   "execution_count": 8,
   "metadata": {
    "id": "0NjeXVBCtFtB"
   },
   "outputs": [],
   "source": [
    "train_data = pd.read_csv(train_data_path)\n",
    "test_data = pd.read_csv(test_data_path)"
   ]
  },
  {
   "cell_type": "code",
   "execution_count": 9,
   "metadata": {
    "id": "SWmGnRzbtHMR"
   },
   "outputs": [],
   "source": [
    "classes_names = train_data['#3_country_label'].unique().tolist()\n",
    "classes_map={}\n",
    "for i,class_name in enumerate(classes_names):\n",
    "    classes_map[class_name]=i"
   ]
  },
  {
   "cell_type": "code",
   "execution_count": 10,
   "metadata": {
    "id": "u9jzeNnVtMBJ"
   },
   "outputs": [],
   "source": [
    "def find_class_id_from_name(class_name):\n",
    "    return classes_map[class_name]"
   ]
  },
  {
   "cell_type": "code",
   "execution_count": 11,
   "metadata": {
    "id": "MPJCU0_8tN8h"
   },
   "outputs": [],
   "source": [
    "train_data['classes_id']=train_data['#3_country_label'].apply(find_class_id_from_name)\n",
    "test_data['classes_id']=train_data['#3_country_label'].apply(find_class_id_from_name)\n",
    "\n",
    "train_data['#2_tweet_clean']=train_data['#2_tweet_clean'].apply(clean_arabic_tweet)\n",
    "test_data['#2_tweet_clean']=train_data['#2_tweet_clean'].apply(clean_arabic_tweet)"
   ]
  },
  {
   "cell_type": "code",
   "execution_count": 12,
   "metadata": {
    "id": "mMIxNL8VtPsZ"
   },
   "outputs": [],
   "source": [
    "train_x = train_data['#2_tweet_clean'].tolist()\n",
    "train_y = train_data['classes_id'].tolist()\n",
    "\n",
    "test_x = test_data['#2_tweet_clean'].tolist()\n",
    "test_y = test_data['classes_id'].tolist()"
   ]
  },
  {
   "cell_type": "code",
   "execution_count": 14,
   "metadata": {
    "id": "YGofWTZlMTc-"
   },
   "outputs": [],
   "source": [
    "vocab_size = 60000\n",
    "embedding_dim = 32\n",
    "max_length = 100\n",
    "trunc_type='post'\n",
    "padding_type='post'\n",
    "oov_tok = \"<OOV>\""
   ]
  },
  {
   "cell_type": "code",
   "execution_count": 15,
   "metadata": {
    "id": "4zGc7XpzwHvy"
   },
   "outputs": [],
   "source": [
    "tokenizer = Tokenizer(oov_token=oov_tok, num_words=60000)\n",
    "tokenizer.fit_on_texts(train_x)\n",
    "word_index = tokenizer.word_index\n",
    "sequences = tokenizer.texts_to_sequences(train_x)"
   ]
  },
  {
   "cell_type": "code",
   "execution_count": 16,
   "metadata": {
    "id": "L2Gxp8oWL_Tq"
   },
   "outputs": [],
   "source": [
    "training_sequences = tokenizer.texts_to_sequences(train_x)\n",
    "training_padded = pad_sequences(training_sequences, maxlen=max_length, padding=padding_type, truncating=trunc_type)\n",
    "\n",
    "testing_sequences = tokenizer.texts_to_sequences(test_x)\n",
    "testing_padded = pad_sequences(testing_sequences, maxlen=max_length, padding=padding_type, truncating=trunc_type)"
   ]
  },
  {
   "cell_type": "code",
   "execution_count": 17,
   "metadata": {
    "id": "sm1PEoBdNPAl"
   },
   "outputs": [],
   "source": [
    "train_y = to_categorical(train_y)\n",
    "test_y = to_categorical(test_y)"
   ]
  },
  {
   "cell_type": "code",
   "execution_count": 19,
   "metadata": {
    "id": "J163NzecNJNP"
   },
   "outputs": [],
   "source": [
    "training_padded = np.array(training_padded)\n",
    "training_labels = train_y\n",
    "testing_padded = np.array(testing_padded)\n",
    "testing_labels = test_y"
   ]
  },
  {
   "cell_type": "code",
   "execution_count": 20,
   "metadata": {
    "id": "8Ano4owcNY13"
   },
   "outputs": [],
   "source": [
    "model = tf.keras.Sequential([\n",
    "    tf.keras.layers.Embedding(vocab_size, embedding_dim, input_length=max_length),\n",
    "    tf.keras.layers.GlobalAveragePooling1D(),\n",
    "    tf.keras.layers.Dense(24, activation='relu'),\n",
    "    tf.keras.layers.Dense(21, activation='softmax')\n",
    "])\n",
    "model.compile(loss='categorical_crossentropy',optimizer='adam',metrics=['accuracy'])"
   ]
  },
  {
   "cell_type": "code",
   "execution_count": 21,
   "metadata": {
    "colab": {
     "base_uri": "https://localhost:8080/"
    },
    "id": "_AOsI_ZQNYzX",
    "outputId": "f731af40-1d0e-49d5-8174-b38da4502a5e"
   },
   "outputs": [
    {
     "name": "stdout",
     "output_type": "stream",
     "text": [
      "Epoch 1/30\n",
      "657/657 [==============================] - 23s 33ms/step - loss: 2.7640 - accuracy: 0.1753 - val_loss: 2.6120 - val_accuracy: 0.2044\n",
      "Epoch 2/30\n",
      "657/657 [==============================] - 15s 22ms/step - loss: 2.6322 - accuracy: 0.2027 - val_loss: 2.5965 - val_accuracy: 0.2044\n",
      "Epoch 3/30\n",
      "657/657 [==============================] - 16s 24ms/step - loss: 2.6041 - accuracy: 0.2062 - val_loss: 2.5239 - val_accuracy: 0.2086\n",
      "Epoch 4/30\n",
      "657/657 [==============================] - 18s 28ms/step - loss: 2.5032 - accuracy: 0.2270 - val_loss: 2.3918 - val_accuracy: 0.2686\n",
      "Epoch 5/30\n",
      "657/657 [==============================] - 17s 26ms/step - loss: 2.3660 - accuracy: 0.3021 - val_loss: 2.2882 - val_accuracy: 0.3150\n",
      "Epoch 6/30\n",
      "657/657 [==============================] - 20s 31ms/step - loss: 2.2709 - accuracy: 0.3378 - val_loss: 2.1613 - val_accuracy: 0.3680\n",
      "Epoch 7/30\n",
      "657/657 [==============================] - 15s 23ms/step - loss: 2.1508 - accuracy: 0.3706 - val_loss: 2.0043 - val_accuracy: 0.4040\n",
      "Epoch 8/30\n",
      "657/657 [==============================] - 15s 23ms/step - loss: 1.9789 - accuracy: 0.4329 - val_loss: 1.8351 - val_accuracy: 0.4906\n",
      "Epoch 9/30\n",
      "657/657 [==============================] - 15s 23ms/step - loss: 1.8329 - accuracy: 0.4897 - val_loss: 1.6650 - val_accuracy: 0.5468\n",
      "Epoch 10/30\n",
      "657/657 [==============================] - 15s 23ms/step - loss: 1.6446 - accuracy: 0.5521 - val_loss: 1.5091 - val_accuracy: 0.5880\n",
      "Epoch 11/30\n",
      "657/657 [==============================] - 15s 23ms/step - loss: 1.4837 - accuracy: 0.6085 - val_loss: 1.3570 - val_accuracy: 0.6518\n",
      "Epoch 12/30\n",
      "657/657 [==============================] - 15s 22ms/step - loss: 1.3421 - accuracy: 0.6521 - val_loss: 1.2229 - val_accuracy: 0.6806\n",
      "Epoch 13/30\n",
      "657/657 [==============================] - 15s 23ms/step - loss: 1.2117 - accuracy: 0.6804 - val_loss: 1.1043 - val_accuracy: 0.7020\n",
      "Epoch 14/30\n",
      "657/657 [==============================] - 15s 22ms/step - loss: 1.0873 - accuracy: 0.7162 - val_loss: 1.0037 - val_accuracy: 0.7202\n",
      "Epoch 15/30\n",
      "657/657 [==============================] - 15s 22ms/step - loss: 1.0043 - accuracy: 0.7382 - val_loss: 0.8985 - val_accuracy: 0.7748\n",
      "Epoch 16/30\n",
      "657/657 [==============================] - 15s 22ms/step - loss: 0.8955 - accuracy: 0.7707 - val_loss: 0.8080 - val_accuracy: 0.7824\n",
      "Epoch 17/30\n",
      "657/657 [==============================] - 15s 22ms/step - loss: 0.8021 - accuracy: 0.7893 - val_loss: 0.7295 - val_accuracy: 0.8160\n",
      "Epoch 18/30\n",
      "657/657 [==============================] - 15s 22ms/step - loss: 0.7514 - accuracy: 0.8110 - val_loss: 0.6641 - val_accuracy: 0.8342\n",
      "Epoch 19/30\n",
      "657/657 [==============================] - 15s 23ms/step - loss: 0.6693 - accuracy: 0.8298 - val_loss: 0.5992 - val_accuracy: 0.8586\n",
      "Epoch 20/30\n",
      "657/657 [==============================] - 15s 22ms/step - loss: 0.6022 - accuracy: 0.8533 - val_loss: 0.5364 - val_accuracy: 0.8738\n",
      "Epoch 21/30\n",
      "657/657 [==============================] - 15s 22ms/step - loss: 0.5499 - accuracy: 0.8697 - val_loss: 0.4878 - val_accuracy: 0.8880\n",
      "Epoch 22/30\n",
      "657/657 [==============================] - 15s 22ms/step - loss: 0.5071 - accuracy: 0.8805 - val_loss: 0.4573 - val_accuracy: 0.8882\n",
      "Epoch 23/30\n",
      "657/657 [==============================] - 15s 23ms/step - loss: 0.4676 - accuracy: 0.8943 - val_loss: 0.4003 - val_accuracy: 0.9106\n",
      "Epoch 24/30\n",
      "657/657 [==============================] - 15s 22ms/step - loss: 0.4100 - accuracy: 0.9065 - val_loss: 0.3734 - val_accuracy: 0.9140\n",
      "Epoch 25/30\n",
      "657/657 [==============================] - 15s 23ms/step - loss: 0.3787 - accuracy: 0.9165 - val_loss: 0.3387 - val_accuracy: 0.9250\n",
      "Epoch 26/30\n",
      "657/657 [==============================] - 15s 23ms/step - loss: 0.3378 - accuracy: 0.9264 - val_loss: 0.3062 - val_accuracy: 0.9322\n",
      "Epoch 27/30\n",
      "657/657 [==============================] - 15s 23ms/step - loss: 0.3170 - accuracy: 0.9335 - val_loss: 0.2763 - val_accuracy: 0.9504\n",
      "Epoch 28/30\n",
      "657/657 [==============================] - 15s 23ms/step - loss: 0.2815 - accuracy: 0.9436 - val_loss: 0.2500 - val_accuracy: 0.9504\n",
      "Epoch 29/30\n",
      "657/657 [==============================] - 15s 23ms/step - loss: 0.2587 - accuracy: 0.9462 - val_loss: 0.2376 - val_accuracy: 0.9488\n",
      "Epoch 30/30\n",
      "657/657 [==============================] - 15s 23ms/step - loss: 0.2423 - accuracy: 0.9530 - val_loss: 0.2217 - val_accuracy: 0.9574\n"
     ]
    }
   ],
   "source": [
    "num_epochs = 30\n",
    "history = model.fit(training_padded, training_labels, epochs=num_epochs, validation_data=(testing_padded, testing_labels), verbose=1)"
   ]
  },
  {
   "cell_type": "code",
   "execution_count": 22,
   "metadata": {
    "colab": {
     "base_uri": "https://localhost:8080/",
     "height": 369
    },
    "id": "Rjeqrj3NNYwt",
    "outputId": "a0cad811-6aca-4155-b181-399773936850"
   },
   "outputs": [
    {
     "data": {
      "image/png": "[encoded data removed]",
      "text/plain": [
       "<Figure size 720x360 with 2 Axes>"
      ]
     },
     "metadata": {
      "needs_background": "light"
     },
     "output_type": "display_data"
    }
   ],
   "source": [
    "plot_history(history.history)\n",
    "plt.show()"
   ]
  },
  {
   "cell_type": "code",
   "execution_count": 23,
   "metadata": {
    "id": "IEVYKOD1NYrI"
   },
   "outputs": [],
   "source": [
    "result = np.argmax(model.predict(testing_padded), axis=-1)"
   ]
  },
  {
   "cell_type": "code",
   "execution_count": 24,
   "metadata": {
    "colab": {
     "base_uri": "https://localhost:8080/"
    },
    "id": "62yYVxSSVAdj",
    "outputId": "bd1b645f-3f69-4739-ca26-482aa402e6df"
   },
   "outputs": [
    {
     "name": "stdout",
     "output_type": "stream",
     "text": [
      "                      precision    recall  f1-score   support\n",
      "\n",
      "               Egypt       0.98      0.99      0.99      1022\n",
      "                Iraq       1.00      0.98      0.99       647\n",
      "        Saudi_Arabia       0.97      0.98      0.97       543\n",
      "          Mauritania       0.94      0.77      0.85        44\n",
      "             Algeria       0.99      0.98      0.99       421\n",
      "               Syria       0.97      0.96      0.97       315\n",
      "                Oman       0.98      0.96      0.97       337\n",
      "             Tunisia       0.92      0.98      0.95       205\n",
      "             Lebanon       0.98      0.88      0.93       159\n",
      "             Morocco       0.91      0.93      0.92       221\n",
      "            Djibouti       1.00      0.70      0.82        40\n",
      "United_Arab_Emirates       0.90      0.96      0.93       152\n",
      "              Kuwait       0.98      0.93      0.95       107\n",
      "               Libya       0.86      0.99      0.92       310\n",
      "             Bahrain       0.97      0.69      0.81        45\n",
      "               Qatar       0.98      0.82      0.89        56\n",
      "               Yemen       0.92      0.88      0.90        90\n",
      "           Palestine       0.89      0.92      0.91       100\n",
      "              Jordan       0.93      0.89      0.91        94\n",
      "             Somalia       0.74      0.76      0.75        37\n",
      "               Sudan       0.85      0.84      0.84        55\n",
      "\n",
      "            accuracy                           0.96      5000\n",
      "           macro avg       0.94      0.89      0.91      5000\n",
      "        weighted avg       0.96      0.96      0.96      5000\n",
      "\n"
     ]
    }
   ],
   "source": [
    "print(classification_report(test_data['classes_id'].astype(int).tolist(), result, target_names=classes_names))"
   ]
  },
  {
   "cell_type": "code",
   "execution_count": 25,
   "metadata": {
    "colab": {
     "base_uri": "https://localhost:8080/"
    },
    "id": "WC5StuqVYwfp",
    "outputId": "f52072d1-7a56-4eb4-c6eb-7f9ab3a63033"
   },
   "outputs": [
    {
     "name": "stdout",
     "output_type": "stream",
     "text": [
      "0.911723320708843\n"
     ]
    }
   ],
   "source": [
    "print(f1_score(test_data['classes_id'].astype(int).tolist(), result, average='macro'))"
   ]
  },
  {
   "cell_type": "code",
   "execution_count": null,
   "metadata": {
    "id": "8GG-wQSqhQ_J"
   },
   "outputs": [],
   "source": []
  }
 ],
 "metadata": {
  "accelerator": "GPU",
  "colab": {
   "collapsed_sections": [],
   "name": "NADI.ipynb",
   "provenance": []
  },
  "kernelspec": {
   "display_name": "Python 3",
   "language": "python",
   "name": "python3"
  },
  "language_info": {
   "codemirror_mode": {
    "name": "ipython",
    "version": 3
   },
   "file_extension": ".py",
   "mimetype": "text/x-python",
   "name": "python",
   "nbconvert_exporter": "python",
   "pygments_lexer": "ipython3",
   "version": "3.7.9"
  }
 },
 "nbformat": 4,
 "nbformat_minor": 1
}
