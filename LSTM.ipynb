{
 "cells": [
  {
   "cell_type": "code",
   "execution_count": 1,
   "metadata": {
    "id": "h52kVYC9rxWi"
   },
   "outputs": [],
   "source": [
    "import warnings\n",
    "warnings.filterwarnings(\"ignore\", category=FutureWarning)\n",
    "import pandas as pd\n",
    "import re\n",
    "import random\n",
    "import string\n",
    "import matplotlib.pyplot as plt\n",
    "from utilities import clean_arabic_tweet\n",
    "import tensorflow as tf\n",
    "from tensorflow.keras.preprocessing.text import Tokenizer\n",
    "from tensorflow.keras.preprocessing.text import text_to_word_sequence\n",
    "from tensorflow.keras.utils import to_categorical\n",
    "from utilities import clean_arabic_tweet\n",
    "from tensorflow.keras.preprocessing.image import ImageDataGenerator\n",
    "from tensorflow.keras.callbacks import LearningRateScheduler, CSVLogger, EarlyStopping, ModelCheckpoint, TensorBoard\n",
    "from tensorflow.keras import optimizers\n",
    "from tensorflow.keras.models import Model\n",
    "import tensorflow.keras as keras\n",
    "from tensorflow.keras.models import Sequential\n",
    "from tensorflow.keras.layers import Dense, Dropout, Flatten\n",
    "from tensorflow.keras.layers import Conv2D, MaxPooling2D,BatchNormalization\n",
    "import tensorflow.keras.backend as K\n",
    "from tensorflow.keras.models import load_model\n",
    "\n",
    "from tensorflow.keras.preprocessing.sequence import pad_sequences\n",
    "import gensim\n",
    "import numpy as np\n",
    "from nltk import ngrams\n",
    "from sklearn.metrics import classification_report, f1_score\n",
    "from plot_keras_history import plot_history\n"
   ]
  },
  {
   "cell_type": "code",
   "execution_count": 2,
   "metadata": {
    "id": "u6qLev0pr2yk"
   },
   "outputs": [],
   "source": [
    "pd.set_option('display.max_colwidth', -1)"
   ]
  },
  {
   "cell_type": "code",
   "execution_count": 6,
   "metadata": {
    "id": "HUG_rMbgs9HO"
   },
   "outputs": [],
   "source": [
    "train_data_path = './cleaned_data/cleaned_train_data_for_subtask1.csv'\n",
    "test_data_path = './cleaned_data/cleaned_test_data_for_subtask1.csv'"
   ]
  },
  {
   "cell_type": "code",
   "execution_count": 7,
   "metadata": {
    "id": "0NjeXVBCtFtB"
   },
   "outputs": [],
   "source": [
    "train_data = pd.read_csv(train_data_path)\n",
    "test_data = pd.read_csv(test_data_path)"
   ]
  },
  {
   "cell_type": "code",
   "execution_count": 8,
   "metadata": {},
   "outputs": [
    {
     "data": {
      "text/plain": [
       "<AxesSubplot:>"
      ]
     },
     "execution_count": 8,
     "metadata": {},
     "output_type": "execute_result"
    },
    {
     "data": {
      "image/png": "[encoded data removed]",
      "text/plain": [
       "<Figure size 432x288 with 1 Axes>"
      ]
     },
     "metadata": {
      "needs_background": "light"
     },
     "output_type": "display_data"
    }
   ],
   "source": [
    "fig, ax = plt.subplots()\n",
    "train_data['#3_country_label'].value_counts().plot(ax=ax, kind='bar')"
   ]
  },
  {
   "cell_type": "code",
   "execution_count": 9,
   "metadata": {
    "id": "SWmGnRzbtHMR"
   },
   "outputs": [],
   "source": [
    "classes_names = train_data['#3_country_label'].unique().tolist()\n",
    "classes_map={}\n",
    "for i,class_name in enumerate(classes_names):\n",
    "    classes_map[class_name]=i"
   ]
  },
  {
   "cell_type": "code",
   "execution_count": 11,
   "metadata": {
    "id": "u9jzeNnVtMBJ"
   },
   "outputs": [],
   "source": [
    "def find_class_id_from_name(class_name):\n",
    "    return classes_map[class_name]"
   ]
  },
  {
   "cell_type": "code",
   "execution_count": 12,
   "metadata": {
    "id": "MPJCU0_8tN8h"
   },
   "outputs": [],
   "source": [
    "train_data['classes_id']=train_data['#3_country_label'].apply(find_class_id_from_name)\n",
    "test_data['classes_id']=test_data['#3_country_label'].apply(find_class_id_from_name)\n",
    "\n",
    "# train_data['#2_tweet_clean']=train_data['#2_tweet_clean'].apply(clean_arabic_tweet)\n",
    "# test_data['#2_tweet_clean']=test_data['#2_tweet_clean'].apply(clean_arabic_tweet)"
   ]
  },
  {
   "cell_type": "code",
   "execution_count": 13,
   "metadata": {
    "id": "mMIxNL8VtPsZ"
   },
   "outputs": [],
   "source": [
    "train_x = train_data['#2_tweet_clean'].tolist()\n",
    "train_y = train_data['classes_id'].tolist()\n",
    "\n",
    "test_x = test_data['#2_tweet_clean'].tolist()\n",
    "test_y = test_data['classes_id'].tolist()"
   ]
  },
  {
   "cell_type": "code",
   "execution_count": 15,
   "metadata": {},
   "outputs": [
    {
     "data": {
      "text/html": [
       "<div>\n",
       "<style scoped>\n",
       "    .dataframe tbody tr th:only-of-type {\n",
       "        vertical-align: middle;\n",
       "    }\n",
       "\n",
       "    .dataframe tbody tr th {\n",
       "        vertical-align: top;\n",
       "    }\n",
       "\n",
       "    .dataframe thead th {\n",
       "        text-align: right;\n",
       "    }\n",
       "</style>\n",
       "<table border=\"1\" class=\"dataframe\">\n",
       "  <thead>\n",
       "    <tr style=\"text-align: right;\">\n",
       "      <th></th>\n",
       "      <th>#1_tweetid</th>\n",
       "      <th>#2_tweet</th>\n",
       "      <th>#3_country_label</th>\n",
       "      <th>#2_tweet_clean</th>\n",
       "      <th>classes_id</th>\n",
       "    </tr>\n",
       "  </thead>\n",
       "  <tbody>\n",
       "    <tr>\n",
       "      <th>0</th>\n",
       "      <td>TRAIN_0</td>\n",
       "      <td>حاجة حلوة اكيد</td>\n",
       "      <td>Egypt</td>\n",
       "      <td>حاجة حلوة اكيد</td>\n",
       "      <td>0</td>\n",
       "    </tr>\n",
       "    <tr>\n",
       "      <th>1</th>\n",
       "      <td>TRAIN_1</td>\n",
       "      <td>عم بشتغلوا للشعب الاميركي اما نحن يكذبوا ويغشوا ويسرقوا ويقتلو شعوبهم ويعملوا لصالح اعدائهم</td>\n",
       "      <td>Iraq</td>\n",
       "      <td>عم بشتغلوا لشعب الاميركي اما نحن يكذبوا ويغشوا ويسرقوا ويقتلو شعوبهم ويعملوا لصالح اعدائهم</td>\n",
       "      <td>1</td>\n",
       "    </tr>\n",
       "    <tr>\n",
       "      <th>2</th>\n",
       "      <td>TRAIN_2</td>\n",
       "      <td>ابشر طال عمرك</td>\n",
       "      <td>Saudi_Arabia</td>\n",
       "      <td>ابشر طال عمرك</td>\n",
       "      <td>2</td>\n",
       "    </tr>\n",
       "    <tr>\n",
       "      <th>3</th>\n",
       "      <td>TRAIN_3</td>\n",
       "      <td>منطق 2017: أنا والغريب علي إبن عمي وأنا والغريب وإبن عمي علي أخويا. #قطع_العلاقات_مع_قطر #موريتانيا_مع_قطر</td>\n",
       "      <td>Mauritania</td>\n",
       "      <td>منطق انا والغريب علي ابن عمي وانا والغريب وابن عمي علي اخويا قطع العلاقات مع قطر موريتانيا مع قطر</td>\n",
       "      <td>3</td>\n",
       "    </tr>\n",
       "    <tr>\n",
       "      <th>4</th>\n",
       "      <td>TRAIN_4</td>\n",
       "      <td>شهرين وتروح والباقي غير صيف ملينا</td>\n",
       "      <td>Algeria</td>\n",
       "      <td>شهرين وتروح والباقي غير صيف ملينا</td>\n",
       "      <td>4</td>\n",
       "    </tr>\n",
       "    <tr>\n",
       "      <th>5</th>\n",
       "      <td>TRAIN_5</td>\n",
       "      <td>يابنتى والله ما حد متغاظ ولا مفروس منك ولا بيحسدك انتى عره اساسا.</td>\n",
       "      <td>Syria</td>\n",
       "      <td>يابنتى واله ما حد متغاظ ولا مفروس منك ولا بيحسدك انتى عره اساسا</td>\n",
       "      <td>5</td>\n",
       "    </tr>\n",
       "    <tr>\n",
       "      <th>6</th>\n",
       "      <td>TRAIN_6</td>\n",
       "      <td>نفس الوقت بأكد على صاحبتي ان اي هدف هتحطه وتخططله هيبوظ والأفضل التشاؤم واننا نتوقع الأسوء دايما والفشل عشان منعشمش نفسنا ع الفاضي</td>\n",
       "      <td>Egypt</td>\n",
       "      <td>نفس الوقت باكد على صاحبتي ان اي هدف هتحطه وتخطله هيبوظ والافضل التشاؤم وانا نتوقع الاسوء دايما والفشل عشان منعشمش نفسنا ع الفاضي</td>\n",
       "      <td>0</td>\n",
       "    </tr>\n",
       "    <tr>\n",
       "      <th>7</th>\n",
       "      <td>TRAIN_7</td>\n",
       "      <td>م تبطلي خرا بقا علشان مطلعهوش عليكي احترمي نفسك URL  …</td>\n",
       "      <td>Egypt</td>\n",
       "      <td>م تبطلي خرا بقا علشان مطلعهوش عليكي احترمي نفسك</td>\n",
       "      <td>0</td>\n",
       "    </tr>\n",
       "    <tr>\n",
       "      <th>8</th>\n",
       "      <td>TRAIN_8</td>\n",
       "      <td>ما يله دخل !</td>\n",
       "      <td>Oman</td>\n",
       "      <td>ما يله دخل</td>\n",
       "      <td>6</td>\n",
       "    </tr>\n",
       "    <tr>\n",
       "      <th>9</th>\n",
       "      <td>TRAIN_9</td>\n",
       "      <td>هو حلو بس يتخربط ع طلاب المدراس ليك مايغيرونه عدنا</td>\n",
       "      <td>Iraq</td>\n",
       "      <td>هو حلو بس يتخربط ع طلاب المدراس ليك مايغيرونه عدنا</td>\n",
       "      <td>1</td>\n",
       "    </tr>\n",
       "    <tr>\n",
       "      <th>10</th>\n",
       "      <td>TRAIN_10</td>\n",
       "      <td>أي عرفتو، ماعندوش مصداقية بصراحة</td>\n",
       "      <td>Tunisia</td>\n",
       "      <td>اي عرفتو ماعندوش مصداقية بصراحة</td>\n",
       "      <td>7</td>\n",
       "    </tr>\n",
       "    <tr>\n",
       "      <th>11</th>\n",
       "      <td>TRAIN_11</td>\n",
       "      <td>بتتذكري مسلسل نورا هيك بتذكر كان اسمها في</td>\n",
       "      <td>Lebanon</td>\n",
       "      <td>بتذكري مسلسل نورا هيك بتذكر كان اسمها في</td>\n",
       "      <td>8</td>\n",
       "    </tr>\n",
       "    <tr>\n",
       "      <th>12</th>\n",
       "      <td>TRAIN_12</td>\n",
       "      <td>أحمد ربي ديجا كي يجي واحد منهم في الوقت</td>\n",
       "      <td>Tunisia</td>\n",
       "      <td>احمد ربي ديجا كي يجي واحد منهم في الوقت</td>\n",
       "      <td>7</td>\n",
       "    </tr>\n",
       "    <tr>\n",
       "      <th>13</th>\n",
       "      <td>TRAIN_13</td>\n",
       "      <td>يسطا لازم قريب خد بالك</td>\n",
       "      <td>Tunisia</td>\n",
       "      <td>يسطا لازم قريب خد بالك</td>\n",
       "      <td>7</td>\n",
       "    </tr>\n",
       "    <tr>\n",
       "      <th>14</th>\n",
       "      <td>TRAIN_14</td>\n",
       "      <td>نزعل و الله لو تريكه مرضش</td>\n",
       "      <td>Tunisia</td>\n",
       "      <td>نزعل و اله لو تريكه مرضش</td>\n",
       "      <td>7</td>\n",
       "    </tr>\n",
       "    <tr>\n",
       "      <th>15</th>\n",
       "      <td>TRAIN_15</td>\n",
       "      <td>فخري وتاج راسي هالنونا والله URL</td>\n",
       "      <td>Morocco</td>\n",
       "      <td>فخري وتاج راسي هالنونا واله</td>\n",
       "      <td>9</td>\n",
       "    </tr>\n",
       "    <tr>\n",
       "      <th>16</th>\n",
       "      <td>TRAIN_16</td>\n",
       "      <td>مال صور ' تاريخ ١٨-١٩ /٧ . URL</td>\n",
       "      <td>Oman</td>\n",
       "      <td>مال صور تاريخ ١٨١٩ ٧</td>\n",
       "      <td>6</td>\n",
       "    </tr>\n",
       "    <tr>\n",
       "      <th>17</th>\n",
       "      <td>TRAIN_17</td>\n",
       "      <td>فورنو كهرباء نوع كوبر نضيف بسعر مغري وممتاز El Oued إعلانات مبوبة في الجزائر | Ssoug  URL …</td>\n",
       "      <td>Algeria</td>\n",
       "      <td>فورنو كهرباء نوع كوبر نضيف بسعر مغري ومتاز اعلانات مبوبة في الجزائر</td>\n",
       "      <td>4</td>\n",
       "    </tr>\n",
       "    <tr>\n",
       "      <th>18</th>\n",
       "      <td>TRAIN_18</td>\n",
       "      <td>لا حبيتي اني مااسمع صوات حمير هنق هنق</td>\n",
       "      <td>Djibouti</td>\n",
       "      <td>لا حبيتي اني ماسمع صوات حمير هنق هنق</td>\n",
       "      <td>10</td>\n",
       "    </tr>\n",
       "    <tr>\n",
       "      <th>19</th>\n",
       "      <td>TRAIN_19</td>\n",
       "      <td>بدو يحشر حالو بين كنادر البنات ، فعلا نظرو واطي هالشخص URL  …</td>\n",
       "      <td>United_Arab_Emirates</td>\n",
       "      <td>بدو يحشر حالو بين كنادر البنات فعلا نظرو واطي هالشخص</td>\n",
       "      <td>11</td>\n",
       "    </tr>\n",
       "    <tr>\n",
       "      <th>20</th>\n",
       "      <td>TRAIN_20</td>\n",
       "      <td>\"مقتنعه ب جمله \\\" لكل فعل رد فعل \\\" ف استحملوا يعنى\"</td>\n",
       "      <td>Egypt</td>\n",
       "      <td>مقتنعه ب جمله لكل فعل رد فعل ف استحملوا يعنى</td>\n",
       "      <td>0</td>\n",
       "    </tr>\n",
       "    <tr>\n",
       "      <th>21</th>\n",
       "      <td>TRAIN_21</td>\n",
       "      <td>اكثر يوم حسيت فيه اني خريجه صج</td>\n",
       "      <td>Kuwait</td>\n",
       "      <td>اكثر يوم حسيت فيه اني خريجه صج</td>\n",
       "      <td>12</td>\n",
       "    </tr>\n",
       "    <tr>\n",
       "      <th>22</th>\n",
       "      <td>TRAIN_22</td>\n",
       "      <td>بوصوفة مشى والصراحة غيخلي بلاصتو ولكن المستقبل هو زياش متنساش راه اول كاس افريقيا غيلعبها</td>\n",
       "      <td>Morocco</td>\n",
       "      <td>بوصوفة مشى والصراحة غيخلي بلاصتو ولكن المستقبل هو زياش متنساش راه اول كاس افريقيا غيلعبها</td>\n",
       "      <td>9</td>\n",
       "    </tr>\n",
       "    <tr>\n",
       "      <th>23</th>\n",
       "      <td>TRAIN_23</td>\n",
       "      <td>USER  والله بجد اللقب هيتشرف بعباس</td>\n",
       "      <td>Syria</td>\n",
       "      <td>واله بجد القب هيتشرف بعباس</td>\n",
       "      <td>5</td>\n",
       "    </tr>\n",
       "    <tr>\n",
       "      <th>24</th>\n",
       "      <td>TRAIN_24</td>\n",
       "      <td>أموت في حبجج؛ خيتي.</td>\n",
       "      <td>Oman</td>\n",
       "      <td>اموت في حبج خيتي</td>\n",
       "      <td>6</td>\n",
       "    </tr>\n",
       "    <tr>\n",
       "      <th>25</th>\n",
       "      <td>TRAIN_25</td>\n",
       "      <td>وش للتبديل الغبي ذا؟؟؟؟؟؟</td>\n",
       "      <td>Saudi_Arabia</td>\n",
       "      <td>وش لتبديل الغبي ذا</td>\n",
       "      <td>2</td>\n",
       "    </tr>\n",
       "    <tr>\n",
       "      <th>26</th>\n",
       "      <td>TRAIN_26</td>\n",
       "      <td>المصور ما عقلهاش</td>\n",
       "      <td>Tunisia</td>\n",
       "      <td>المصور ما عقلهاش</td>\n",
       "      <td>7</td>\n",
       "    </tr>\n",
       "    <tr>\n",
       "      <th>27</th>\n",
       "      <td>TRAIN_27</td>\n",
       "      <td>مادار في بالي الخالي اتعلق بغالي واضيع انا في الدرب وشصار لهالگلب حب وعشگ وانحب واني ادري انه صعب وشصار شنو...  URL</td>\n",
       "      <td>Iraq</td>\n",
       "      <td>مادار في بالي الخالي اتعلق بغالي واضيع انا في الدرب وشصار لهالگلب حب وعشگ وانحب واني ادري انه صعب وشصار شنو</td>\n",
       "      <td>1</td>\n",
       "    </tr>\n",
       "    <tr>\n",
       "      <th>28</th>\n",
       "      <td>TRAIN_28</td>\n",
       "      <td>لما اقول لبنت طيزك حمرا دي مش شتيمة دا مدح عظيم لو تعلمون</td>\n",
       "      <td>Egypt</td>\n",
       "      <td>لما اقول لبنت طيزك حمرا دي مش شتيمة دا مدح عظيم لو تعلمون</td>\n",
       "      <td>0</td>\n",
       "    </tr>\n",
       "    <tr>\n",
       "      <th>29</th>\n",
       "      <td>TRAIN_29</td>\n",
       "      <td>ماحس الي يالسه ترمسني ميثوه (:</td>\n",
       "      <td>United_Arab_Emirates</td>\n",
       "      <td>ماحس الي يالسه ترمسني ميثوه</td>\n",
       "      <td>11</td>\n",
       "    </tr>\n",
       "    <tr>\n",
       "      <th>30</th>\n",
       "      <td>TRAIN_30</td>\n",
       "      <td>لااااااا متقوليييييش عليها كده متصدمنيش لااااااا</td>\n",
       "      <td>Egypt</td>\n",
       "      <td>لا متقوليش عليها كده متصدمنيش لا</td>\n",
       "      <td>0</td>\n",
       "    </tr>\n",
       "    <tr>\n",
       "      <th>31</th>\n",
       "      <td>TRAIN_31</td>\n",
       "      <td>بعد مشاهدة الحوار لي دارو البارح الغديري في حصة الجزائرية وان .. لن وولن انتخب بنادم... جملة ميعرفش يكونها... 1</td>\n",
       "      <td>Algeria</td>\n",
       "      <td>بعد مشاهدة الحوار لي دارو البارح الغديري في حصة الجزائرية وان لن ولن انتخب بنادم جملة ميعرفش يكونها</td>\n",
       "      <td>4</td>\n",
       "    </tr>\n",
       "    <tr>\n",
       "      <th>32</th>\n",
       "      <td>TRAIN_32</td>\n",
       "      <td>من الأماكن الي فعلا بحبها وترتاح جدا فيها</td>\n",
       "      <td>Egypt</td>\n",
       "      <td>من الاماكن الي فعلا بحبها وترتاح جدا فيها</td>\n",
       "      <td>0</td>\n",
       "    </tr>\n",
       "    <tr>\n",
       "      <th>33</th>\n",
       "      <td>TRAIN_33</td>\n",
       "      <td>اي والله تحول خرافي</td>\n",
       "      <td>Algeria</td>\n",
       "      <td>اي واله تحول خرافي</td>\n",
       "      <td>4</td>\n",
       "    </tr>\n",
       "    <tr>\n",
       "      <th>34</th>\n",
       "      <td>TRAIN_34</td>\n",
       "      <td>ههههههه او ههههههههه او ههههههه والكارثه الزواج تايد وتصدك وطبل لابو كل ذيل وكل مغرض ولكم جذبو بانصاف لابو الحرس الثوري</td>\n",
       "      <td>Iraq</td>\n",
       "      <td>ه او ه او ه والكارثه الزواج تايد وتصدك وطبل لابو كل ذيل وكل مغرض ولكم جذبو بانصاف لابو الحرس الثوري</td>\n",
       "      <td>1</td>\n",
       "    </tr>\n",
       "    <tr>\n",
       "      <th>35</th>\n",
       "      <td>TRAIN_35</td>\n",
       "      <td>حبك لو ينتهي ارجع احبك من جديد !</td>\n",
       "      <td>United_Arab_Emirates</td>\n",
       "      <td>حبك لو ينتهي ارجع احبك من جديد</td>\n",
       "      <td>11</td>\n",
       "    </tr>\n",
       "    <tr>\n",
       "      <th>36</th>\n",
       "      <td>TRAIN_36</td>\n",
       "      <td>وحياتك ولا انا</td>\n",
       "      <td>Iraq</td>\n",
       "      <td>وحياتك ولا انا</td>\n",
       "      <td>1</td>\n",
       "    </tr>\n",
       "    <tr>\n",
       "      <th>37</th>\n",
       "      <td>TRAIN_37</td>\n",
       "      <td>مش احسن ما اعيط من المذاكره اللي عليا</td>\n",
       "      <td>Egypt</td>\n",
       "      <td>مش احسن ما اعيط من المذاكره الي عليا</td>\n",
       "      <td>0</td>\n",
       "    </tr>\n",
       "    <tr>\n",
       "      <th>38</th>\n",
       "      <td>TRAIN_38</td>\n",
       "      <td>#البريمرليج_على_الجزيره ياريت الخليفي ما يطلع حرقة دفع تعاقدات ال PSG من مشركين الجزيرة الرياضية :):):):)</td>\n",
       "      <td>Iraq</td>\n",
       "      <td>البريمرليج على الجزيره ياريت الخليفي ما يطلع حرقة دفع تعاقدات ال من مشركين الجزيرة الرياضية</td>\n",
       "      <td>1</td>\n",
       "    </tr>\n",
       "    <tr>\n",
       "      <th>39</th>\n",
       "      <td>TRAIN_39</td>\n",
       "      <td>فيه فلم مدري مسلسل نزل ل زياد العمري لي اسبوعين ادور عليه اتوقع اسمه ( جُرذ ) كيف اشوفه او بس يعرض على صالات السينما؟</td>\n",
       "      <td>Saudi_Arabia</td>\n",
       "      <td>فيه فلم مدري مسلسل نزل ل زياد العمري لي اسبوعين ادور عليه اتوقع اسمه جرذ كيف اشوفه او بس يعرض على صالات السينما</td>\n",
       "      <td>2</td>\n",
       "    </tr>\n",
       "    <tr>\n",
       "      <th>40</th>\n",
       "      <td>TRAIN_40</td>\n",
       "      <td>#الهلال_الشباب هاردلك لليوث الفريق لازال في مرحلة البناء لعيبه صغار سن فيه اخطاء صانع لعب ممتاز مطلب في الشتوية بديل للاسطا مهاجم محلي جيد</td>\n",
       "      <td>Syria</td>\n",
       "      <td>الهلال الشباب هاردلك ليوث الفريق لازال في مرحلة البناء لعيبه صغار سن فيه اخطاء صانع لعب متاز مطلب في الشتوية بديل لاسطا مهاجم محلي جيد</td>\n",
       "      <td>5</td>\n",
       "    </tr>\n",
       "    <tr>\n",
       "      <th>41</th>\n",
       "      <td>TRAIN_41</td>\n",
       "      <td>عهدي بها فاكهه شيطان امتى قعدت تفاحة صراحه URL  …</td>\n",
       "      <td>Libya</td>\n",
       "      <td>عهدي بها فاكه شيطان امتى قعدت تفاحة صراحه</td>\n",
       "      <td>13</td>\n",
       "    </tr>\n",
       "    <tr>\n",
       "      <th>42</th>\n",
       "      <td>TRAIN_42</td>\n",
       "      <td>سال المجرب وما تسالش الطبيب</td>\n",
       "      <td>Algeria</td>\n",
       "      <td>سال المجرب وما تسالش الطبيب</td>\n",
       "      <td>4</td>\n",
       "    </tr>\n",
       "    <tr>\n",
       "      <th>43</th>\n",
       "      <td>TRAIN_43</td>\n",
       "      <td>هي زي تحبكي</td>\n",
       "      <td>Iraq</td>\n",
       "      <td>هي زي تحبكي</td>\n",
       "      <td>1</td>\n",
       "    </tr>\n",
       "    <tr>\n",
       "      <th>44</th>\n",
       "      <td>TRAIN_44</td>\n",
       "      <td>كيف جايهم النوم بس حاسدتهم</td>\n",
       "      <td>Libya</td>\n",
       "      <td>كيف جايهم النوم بس حاسدتهم</td>\n",
       "      <td>13</td>\n",
       "    </tr>\n",
       "    <tr>\n",
       "      <th>45</th>\n",
       "      <td>TRAIN_45</td>\n",
       "      <td>شي غريب الشوارع فاضيه !!!!! #كويت #q8 #Kuwait</td>\n",
       "      <td>Kuwait</td>\n",
       "      <td>شي غريب الشوارع فاضيه كويت</td>\n",
       "      <td>12</td>\n",
       "    </tr>\n",
       "    <tr>\n",
       "      <th>46</th>\n",
       "      <td>TRAIN_46</td>\n",
       "      <td>\"منذ الأزل بيخسروا وبيخيبوا أملنا بس هل مرة نشعر بالسعادة \\\"العارمة\\\"\"</td>\n",
       "      <td>Syria</td>\n",
       "      <td>منذ الازل بيخسروا وبيخيبوا املنا بس هل مرة نشعر بالسعادة العارمة</td>\n",
       "      <td>5</td>\n",
       "    </tr>\n",
       "    <tr>\n",
       "      <th>47</th>\n",
       "      <td>TRAIN_47</td>\n",
       "      <td>يعني الجبال الباقيه على الارض مديلها جديد ولا خلقت الا بعد ذا الاحفوره !!!</td>\n",
       "      <td>Saudi_Arabia</td>\n",
       "      <td>يعني الجبال الباقيه على الارض مديلها جديد ولا خلقت الا بعد ذا الاحفوره</td>\n",
       "      <td>2</td>\n",
       "    </tr>\n",
       "    <tr>\n",
       "      <th>48</th>\n",
       "      <td>TRAIN_48</td>\n",
       "      <td>#الحقيقه_توجع ناس كنت احسب انهم كفو وخيبوا ظنّي..!!  URL</td>\n",
       "      <td>Syria</td>\n",
       "      <td>الحقيقه توجع ناس كنت احسب انهم كفو وخيبوا ظني</td>\n",
       "      <td>5</td>\n",
       "    </tr>\n",
       "    <tr>\n",
       "      <th>49</th>\n",
       "      <td>TRAIN_49</td>\n",
       "      <td>USER  يا ريت والله</td>\n",
       "      <td>Oman</td>\n",
       "      <td>يا ريت واله</td>\n",
       "      <td>6</td>\n",
       "    </tr>\n",
       "  </tbody>\n",
       "</table>\n",
       "</div>"
      ],
      "text/plain": [
       "   #1_tweetid  \\\n",
       "0   TRAIN_0     \n",
       "1   TRAIN_1     \n",
       "2   TRAIN_2     \n",
       "3   TRAIN_3     \n",
       "4   TRAIN_4     \n",
       "5   TRAIN_5     \n",
       "6   TRAIN_6     \n",
       "7   TRAIN_7     \n",
       "8   TRAIN_8     \n",
       "9   TRAIN_9     \n",
       "10  TRAIN_10    \n",
       "11  TRAIN_11    \n",
       "12  TRAIN_12    \n",
       "13  TRAIN_13    \n",
       "14  TRAIN_14    \n",
       "15  TRAIN_15    \n",
       "16  TRAIN_16    \n",
       "17  TRAIN_17    \n",
       "18  TRAIN_18    \n",
       "19  TRAIN_19    \n",
       "20  TRAIN_20    \n",
       "21  TRAIN_21    \n",
       "22  TRAIN_22    \n",
       "23  TRAIN_23    \n",
       "24  TRAIN_24    \n",
       "25  TRAIN_25    \n",
       "26  TRAIN_26    \n",
       "27  TRAIN_27    \n",
       "28  TRAIN_28    \n",
       "29  TRAIN_29    \n",
       "30  TRAIN_30    \n",
       "31  TRAIN_31    \n",
       "32  TRAIN_32    \n",
       "33  TRAIN_33    \n",
       "34  TRAIN_34    \n",
       "35  TRAIN_35    \n",
       "36  TRAIN_36    \n",
       "37  TRAIN_37    \n",
       "38  TRAIN_38    \n",
       "39  TRAIN_39    \n",
       "40  TRAIN_40    \n",
       "41  TRAIN_41    \n",
       "42  TRAIN_42    \n",
       "43  TRAIN_43    \n",
       "44  TRAIN_44    \n",
       "45  TRAIN_45    \n",
       "46  TRAIN_46    \n",
       "47  TRAIN_47    \n",
       "48  TRAIN_48    \n",
       "49  TRAIN_49    \n",
       "\n",
       "                                                                                                                                      #2_tweet  \\\n",
       "0   حاجة حلوة اكيد                                                                                                                               \n",
       "1   عم بشتغلوا للشعب الاميركي اما نحن يكذبوا ويغشوا ويسرقوا ويقتلو شعوبهم ويعملوا لصالح اعدائهم                                                  \n",
       "2   ابشر طال عمرك                                                                                                                                \n",
       "3   منطق 2017: أنا والغريب علي إبن عمي وأنا والغريب وإبن عمي علي أخويا. #قطع_العلاقات_مع_قطر #موريتانيا_مع_قطر                                   \n",
       "4   شهرين وتروح والباقي غير صيف ملينا                                                                                                            \n",
       "5   يابنتى والله ما حد متغاظ ولا مفروس منك ولا بيحسدك انتى عره اساسا.                                                                            \n",
       "6   نفس الوقت بأكد على صاحبتي ان اي هدف هتحطه وتخططله هيبوظ والأفضل التشاؤم واننا نتوقع الأسوء دايما والفشل عشان منعشمش نفسنا ع الفاضي           \n",
       "7   م تبطلي خرا بقا علشان مطلعهوش عليكي احترمي نفسك URL  …                                                                                       \n",
       "8   ما يله دخل !                                                                                                                                 \n",
       "9   هو حلو بس يتخربط ع طلاب المدراس ليك مايغيرونه عدنا                                                                                           \n",
       "10  أي عرفتو، ماعندوش مصداقية بصراحة                                                                                                             \n",
       "11  بتتذكري مسلسل نورا هيك بتذكر كان اسمها في                                                                                                    \n",
       "12  أحمد ربي ديجا كي يجي واحد منهم في الوقت                                                                                                      \n",
       "13  يسطا لازم قريب خد بالك                                                                                                                       \n",
       "14  نزعل و الله لو تريكه مرضش                                                                                                                    \n",
       "15  فخري وتاج راسي هالنونا والله URL                                                                                                             \n",
       "16  مال صور ' تاريخ ١٨-١٩ /٧ . URL                                                                                                               \n",
       "17  فورنو كهرباء نوع كوبر نضيف بسعر مغري وممتاز El Oued إعلانات مبوبة في الجزائر | Ssoug  URL …                                                  \n",
       "18  لا حبيتي اني مااسمع صوات حمير هنق هنق                                                                                                        \n",
       "19  بدو يحشر حالو بين كنادر البنات ، فعلا نظرو واطي هالشخص URL  …                                                                                \n",
       "20  \"مقتنعه ب جمله \\\" لكل فعل رد فعل \\\" ف استحملوا يعنى\"                                                                                         \n",
       "21  اكثر يوم حسيت فيه اني خريجه صج                                                                                                               \n",
       "22  بوصوفة مشى والصراحة غيخلي بلاصتو ولكن المستقبل هو زياش متنساش راه اول كاس افريقيا غيلعبها                                                    \n",
       "23   USER  والله بجد اللقب هيتشرف بعباس                                                                                                          \n",
       "24  أموت في حبجج؛ خيتي.                                                                                                                          \n",
       "25  وش للتبديل الغبي ذا؟؟؟؟؟؟                                                                                                                    \n",
       "26  المصور ما عقلهاش                                                                                                                             \n",
       "27  مادار في بالي الخالي اتعلق بغالي واضيع انا في الدرب وشصار لهالگلب حب وعشگ وانحب واني ادري انه صعب وشصار شنو...  URL                          \n",
       "28  لما اقول لبنت طيزك حمرا دي مش شتيمة دا مدح عظيم لو تعلمون                                                                                    \n",
       "29  ماحس الي يالسه ترمسني ميثوه (:                                                                                                               \n",
       "30  لااااااا متقوليييييش عليها كده متصدمنيش لااااااا                                                                                             \n",
       "31  بعد مشاهدة الحوار لي دارو البارح الغديري في حصة الجزائرية وان .. لن وولن انتخب بنادم... جملة ميعرفش يكونها... 1                              \n",
       "32  من الأماكن الي فعلا بحبها وترتاح جدا فيها                                                                                                    \n",
       "33  اي والله تحول خرافي                                                                                                                          \n",
       "34  ههههههه او ههههههههه او ههههههه والكارثه الزواج تايد وتصدك وطبل لابو كل ذيل وكل مغرض ولكم جذبو بانصاف لابو الحرس الثوري                      \n",
       "35  حبك لو ينتهي ارجع احبك من جديد !                                                                                                             \n",
       "36  وحياتك ولا انا                                                                                                                               \n",
       "37  مش احسن ما اعيط من المذاكره اللي عليا                                                                                                        \n",
       "38  #البريمرليج_على_الجزيره ياريت الخليفي ما يطلع حرقة دفع تعاقدات ال PSG من مشركين الجزيرة الرياضية :):):):)                                    \n",
       "39  فيه فلم مدري مسلسل نزل ل زياد العمري لي اسبوعين ادور عليه اتوقع اسمه ( جُرذ ) كيف اشوفه او بس يعرض على صالات السينما؟                        \n",
       "40  #الهلال_الشباب هاردلك لليوث الفريق لازال في مرحلة البناء لعيبه صغار سن فيه اخطاء صانع لعب ممتاز مطلب في الشتوية بديل للاسطا مهاجم محلي جيد   \n",
       "41  عهدي بها فاكهه شيطان امتى قعدت تفاحة صراحه URL  …                                                                                            \n",
       "42  سال المجرب وما تسالش الطبيب                                                                                                                  \n",
       "43  هي زي تحبكي                                                                                                                                  \n",
       "44  كيف جايهم النوم بس حاسدتهم                                                                                                                   \n",
       "45  شي غريب الشوارع فاضيه !!!!! #كويت #q8 #Kuwait                                                                                                \n",
       "46  \"منذ الأزل بيخسروا وبيخيبوا أملنا بس هل مرة نشعر بالسعادة \\\"العارمة\\\"\"                                                                       \n",
       "47  يعني الجبال الباقيه على الارض مديلها جديد ولا خلقت الا بعد ذا الاحفوره !!!                                                                   \n",
       "48  #الحقيقه_توجع ناس كنت احسب انهم كفو وخيبوا ظنّي..!!  URL                                                                                     \n",
       "49   USER  يا ريت والله                                                                                                                          \n",
       "\n",
       "        #3_country_label  \\\n",
       "0   Egypt                  \n",
       "1   Iraq                   \n",
       "2   Saudi_Arabia           \n",
       "3   Mauritania             \n",
       "4   Algeria                \n",
       "5   Syria                  \n",
       "6   Egypt                  \n",
       "7   Egypt                  \n",
       "8   Oman                   \n",
       "9   Iraq                   \n",
       "10  Tunisia                \n",
       "11  Lebanon                \n",
       "12  Tunisia                \n",
       "13  Tunisia                \n",
       "14  Tunisia                \n",
       "15  Morocco                \n",
       "16  Oman                   \n",
       "17  Algeria                \n",
       "18  Djibouti               \n",
       "19  United_Arab_Emirates   \n",
       "20  Egypt                  \n",
       "21  Kuwait                 \n",
       "22  Morocco                \n",
       "23  Syria                  \n",
       "24  Oman                   \n",
       "25  Saudi_Arabia           \n",
       "26  Tunisia                \n",
       "27  Iraq                   \n",
       "28  Egypt                  \n",
       "29  United_Arab_Emirates   \n",
       "30  Egypt                  \n",
       "31  Algeria                \n",
       "32  Egypt                  \n",
       "33  Algeria                \n",
       "34  Iraq                   \n",
       "35  United_Arab_Emirates   \n",
       "36  Iraq                   \n",
       "37  Egypt                  \n",
       "38  Iraq                   \n",
       "39  Saudi_Arabia           \n",
       "40  Syria                  \n",
       "41  Libya                  \n",
       "42  Algeria                \n",
       "43  Iraq                   \n",
       "44  Libya                  \n",
       "45  Kuwait                 \n",
       "46  Syria                  \n",
       "47  Saudi_Arabia           \n",
       "48  Syria                  \n",
       "49  Oman                   \n",
       "\n",
       "                                                                                                                            #2_tweet_clean  \\\n",
       "0   حاجة حلوة اكيد                                                                                                                           \n",
       "1   عم بشتغلوا لشعب الاميركي اما نحن يكذبوا ويغشوا ويسرقوا ويقتلو شعوبهم ويعملوا لصالح اعدائهم                                               \n",
       "2   ابشر طال عمرك                                                                                                                            \n",
       "3   منطق انا والغريب علي ابن عمي وانا والغريب وابن عمي علي اخويا قطع العلاقات مع قطر موريتانيا مع قطر                                        \n",
       "4   شهرين وتروح والباقي غير صيف ملينا                                                                                                        \n",
       "5   يابنتى واله ما حد متغاظ ولا مفروس منك ولا بيحسدك انتى عره اساسا                                                                          \n",
       "6   نفس الوقت باكد على صاحبتي ان اي هدف هتحطه وتخطله هيبوظ والافضل التشاؤم وانا نتوقع الاسوء دايما والفشل عشان منعشمش نفسنا ع الفاضي         \n",
       "7   م تبطلي خرا بقا علشان مطلعهوش عليكي احترمي نفسك                                                                                          \n",
       "8   ما يله دخل                                                                                                                               \n",
       "9   هو حلو بس يتخربط ع طلاب المدراس ليك مايغيرونه عدنا                                                                                       \n",
       "10  اي عرفتو ماعندوش مصداقية بصراحة                                                                                                          \n",
       "11  بتذكري مسلسل نورا هيك بتذكر كان اسمها في                                                                                                 \n",
       "12  احمد ربي ديجا كي يجي واحد منهم في الوقت                                                                                                  \n",
       "13  يسطا لازم قريب خد بالك                                                                                                                   \n",
       "14  نزعل و اله لو تريكه مرضش                                                                                                                 \n",
       "15  فخري وتاج راسي هالنونا واله                                                                                                              \n",
       "16  مال صور تاريخ ١٨١٩ ٧                                                                                                                     \n",
       "17  فورنو كهرباء نوع كوبر نضيف بسعر مغري ومتاز اعلانات مبوبة في الجزائر                                                                      \n",
       "18  لا حبيتي اني ماسمع صوات حمير هنق هنق                                                                                                     \n",
       "19  بدو يحشر حالو بين كنادر البنات فعلا نظرو واطي هالشخص                                                                                     \n",
       "20  مقتنعه ب جمله لكل فعل رد فعل ف استحملوا يعنى                                                                                             \n",
       "21  اكثر يوم حسيت فيه اني خريجه صج                                                                                                           \n",
       "22  بوصوفة مشى والصراحة غيخلي بلاصتو ولكن المستقبل هو زياش متنساش راه اول كاس افريقيا غيلعبها                                                \n",
       "23   واله بجد القب هيتشرف بعباس                                                                                                              \n",
       "24  اموت في حبج خيتي                                                                                                                         \n",
       "25  وش لتبديل الغبي ذا                                                                                                                       \n",
       "26  المصور ما عقلهاش                                                                                                                         \n",
       "27  مادار في بالي الخالي اتعلق بغالي واضيع انا في الدرب وشصار لهالگلب حب وعشگ وانحب واني ادري انه صعب وشصار شنو                              \n",
       "28  لما اقول لبنت طيزك حمرا دي مش شتيمة دا مدح عظيم لو تعلمون                                                                                \n",
       "29  ماحس الي يالسه ترمسني ميثوه                                                                                                              \n",
       "30  لا متقوليش عليها كده متصدمنيش لا                                                                                                         \n",
       "31  بعد مشاهدة الحوار لي دارو البارح الغديري في حصة الجزائرية وان لن ولن انتخب بنادم جملة ميعرفش يكونها                                      \n",
       "32  من الاماكن الي فعلا بحبها وترتاح جدا فيها                                                                                                \n",
       "33  اي واله تحول خرافي                                                                                                                       \n",
       "34  ه او ه او ه والكارثه الزواج تايد وتصدك وطبل لابو كل ذيل وكل مغرض ولكم جذبو بانصاف لابو الحرس الثوري                                      \n",
       "35  حبك لو ينتهي ارجع احبك من جديد                                                                                                           \n",
       "36  وحياتك ولا انا                                                                                                                           \n",
       "37  مش احسن ما اعيط من المذاكره الي عليا                                                                                                     \n",
       "38  البريمرليج على الجزيره ياريت الخليفي ما يطلع حرقة دفع تعاقدات ال من مشركين الجزيرة الرياضية                                              \n",
       "39  فيه فلم مدري مسلسل نزل ل زياد العمري لي اسبوعين ادور عليه اتوقع اسمه جرذ كيف اشوفه او بس يعرض على صالات السينما                          \n",
       "40  الهلال الشباب هاردلك ليوث الفريق لازال في مرحلة البناء لعيبه صغار سن فيه اخطاء صانع لعب متاز مطلب في الشتوية بديل لاسطا مهاجم محلي جيد   \n",
       "41  عهدي بها فاكه شيطان امتى قعدت تفاحة صراحه                                                                                                \n",
       "42  سال المجرب وما تسالش الطبيب                                                                                                              \n",
       "43  هي زي تحبكي                                                                                                                              \n",
       "44  كيف جايهم النوم بس حاسدتهم                                                                                                               \n",
       "45  شي غريب الشوارع فاضيه كويت                                                                                                               \n",
       "46  منذ الازل بيخسروا وبيخيبوا املنا بس هل مرة نشعر بالسعادة العارمة                                                                         \n",
       "47  يعني الجبال الباقيه على الارض مديلها جديد ولا خلقت الا بعد ذا الاحفوره                                                                   \n",
       "48  الحقيقه توجع ناس كنت احسب انهم كفو وخيبوا ظني                                                                                            \n",
       "49   يا ريت واله                                                                                                                             \n",
       "\n",
       "    classes_id  \n",
       "0   0           \n",
       "1   1           \n",
       "2   2           \n",
       "3   3           \n",
       "4   4           \n",
       "5   5           \n",
       "6   0           \n",
       "7   0           \n",
       "8   6           \n",
       "9   1           \n",
       "10  7           \n",
       "11  8           \n",
       "12  7           \n",
       "13  7           \n",
       "14  7           \n",
       "15  9           \n",
       "16  6           \n",
       "17  4           \n",
       "18  10          \n",
       "19  11          \n",
       "20  0           \n",
       "21  12          \n",
       "22  9           \n",
       "23  5           \n",
       "24  6           \n",
       "25  2           \n",
       "26  7           \n",
       "27  1           \n",
       "28  0           \n",
       "29  11          \n",
       "30  0           \n",
       "31  4           \n",
       "32  0           \n",
       "33  4           \n",
       "34  1           \n",
       "35  11          \n",
       "36  1           \n",
       "37  0           \n",
       "38  1           \n",
       "39  2           \n",
       "40  5           \n",
       "41  13          \n",
       "42  4           \n",
       "43  1           \n",
       "44  13          \n",
       "45  12          \n",
       "46  5           \n",
       "47  2           \n",
       "48  5           \n",
       "49  6           "
      ]
     },
     "execution_count": 15,
     "metadata": {},
     "output_type": "execute_result"
    }
   ],
   "source": [
    "train_data.head(50)"
   ]
  },
  {
   "cell_type": "markdown",
   "metadata": {},
   "source": [
    "## tokanize the trainset for creating the embedding layer"
   ]
  },
  {
   "cell_type": "code",
   "execution_count": 16,
   "metadata": {
    "id": "YGofWTZlMTc-"
   },
   "outputs": [],
   "source": [
    "vocab_size = 60000\n",
    "embedding_dim = 64\n",
    "max_length = 60\n",
    "trunc_type='post'\n",
    "padding_type='post'\n",
    "oov_tok = \"<OOV>\""
   ]
  },
  {
   "cell_type": "code",
   "execution_count": 17,
   "metadata": {
    "id": "4zGc7XpzwHvy"
   },
   "outputs": [],
   "source": [
    "tokenizer = Tokenizer(oov_token=oov_tok, num_words=60000)\n",
    "tokenizer.fit_on_texts(train_x)\n",
    "word_index = tokenizer.word_index\n",
    "sequences = tokenizer.texts_to_sequences(train_x)"
   ]
  },
  {
   "cell_type": "markdown",
   "metadata": {},
   "source": [
    "## padding/truncating tweets to be the same length"
   ]
  },
  {
   "cell_type": "code",
   "execution_count": 18,
   "metadata": {
    "id": "L2Gxp8oWL_Tq"
   },
   "outputs": [],
   "source": [
    "training_sequences = tokenizer.texts_to_sequences(train_x)\n",
    "training_padded = pad_sequences(training_sequences, maxlen=max_length, padding=padding_type, truncating=trunc_type)\n",
    "\n",
    "testing_sequences = tokenizer.texts_to_sequences(test_x)\n",
    "testing_padded = pad_sequences(testing_sequences, maxlen=max_length, padding=padding_type, truncating=trunc_type)"
   ]
  },
  {
   "cell_type": "markdown",
   "metadata": {},
   "source": [
    "## convert labels to categorical from class id to categorical vector"
   ]
  },
  {
   "cell_type": "code",
   "execution_count": 19,
   "metadata": {
    "id": "sm1PEoBdNPAl"
   },
   "outputs": [],
   "source": [
    "train_y = to_categorical(train_y)\n",
    "test_y = to_categorical(test_y)"
   ]
  },
  {
   "cell_type": "code",
   "execution_count": 20,
   "metadata": {
    "id": "J163NzecNJNP"
   },
   "outputs": [],
   "source": [
    "training_padded = np.array(training_padded)\n",
    "training_labels = train_y\n",
    "testing_padded = np.array(testing_padded)\n",
    "testing_labels = test_y"
   ]
  },
  {
   "cell_type": "markdown",
   "metadata": {},
   "source": [
    "## create the lstm Model"
   ]
  },
  {
   "cell_type": "code",
   "execution_count": 37,
   "metadata": {
    "id": "8Ano4owcNY13"
   },
   "outputs": [
    {
     "name": "stdout",
     "output_type": "stream",
     "text": [
      "WARNING:tensorflow:Layer lstm_4 will not use cuDNN kernel since it doesn't meet the cuDNN kernel criteria. It will use generic GPU kernel as fallback when running on GPU\n"
     ]
    }
   ],
   "source": [
    "model = tf.keras.Sequential([\n",
    "    tf.keras.layers.Embedding(vocab_size, embedding_dim, input_length=max_length),\n",
    "    tf.keras.layers.LSTM(64, return_sequences=True, dropout=0.3,recurrent_dropout=0.3),\n",
    "    tf.keras.layers.GlobalAveragePooling1D(),\n",
    "    tf.keras.layers.Dropout(rate=0.1),\n",
    "    tf.keras.layers.Dense(64, activation='relu'),\n",
    "    tf.keras.layers.Dropout(rate=0.1),\n",
    "    tf.keras.layers.Dense(21, activation='softmax')\n",
    "])\n",
    "model.compile(loss='categorical_crossentropy',optimizer='adam',metrics=['accuracy'])"
   ]
  },
  {
   "cell_type": "code",
   "execution_count": 38,
   "metadata": {},
   "outputs": [
    {
     "name": "stdout",
     "output_type": "stream",
     "text": [
      "Model: \"sequential_3\"\n",
      "_________________________________________________________________\n",
      "Layer (type)                 Output Shape              Param #   \n",
      "=================================================================\n",
      "embedding_4 (Embedding)      (None, 60, 64)            3840000   \n",
      "_________________________________________________________________\n",
      "lstm_4 (LSTM)                (None, 60, 64)            33024     \n",
      "_________________________________________________________________\n",
      "global_average_pooling1d_4 ( (None, 64)                0         \n",
      "_________________________________________________________________\n",
      "dropout_4 (Dropout)          (None, 64)                0         \n",
      "_________________________________________________________________\n",
      "dense_6 (Dense)              (None, 64)                4160      \n",
      "_________________________________________________________________\n",
      "dropout_5 (Dropout)          (None, 64)                0         \n",
      "_________________________________________________________________\n",
      "dense_7 (Dense)              (None, 21)                1365      \n",
      "=================================================================\n",
      "Total params: 3,878,549\n",
      "Trainable params: 3,878,549\n",
      "Non-trainable params: 0\n",
      "_________________________________________________________________\n"
     ]
    }
   ],
   "source": [
    "model.summary()"
   ]
  },
  {
   "cell_type": "markdown",
   "metadata": {},
   "source": [
    "## training "
   ]
  },
  {
   "cell_type": "code",
   "execution_count": 33,
   "metadata": {
    "colab": {
     "base_uri": "https://localhost:8080/"
    },
    "id": "_AOsI_ZQNYzX",
    "outputId": "f731af40-1d0e-49d5-8174-b38da4502a5e"
   },
   "outputs": [
    {
     "name": "stdout",
     "output_type": "stream",
     "text": [
      "Epoch 1/10\n",
      "657/657 [==============================] - 162s 242ms/step - loss: 2.6952 - accuracy: 0.1964 - val_loss: 2.5949 - val_accuracy: 0.2172\n",
      "Epoch 2/10\n",
      "657/657 [==============================] - 169s 258ms/step - loss: 2.5597 - accuracy: 0.2061 - val_loss: 2.5948 - val_accuracy: 0.1888\n",
      "Epoch 3/10\n",
      "657/657 [==============================] - 151s 229ms/step - loss: 2.5149 - accuracy: 0.2068 - val_loss: 2.6163 - val_accuracy: 0.2168\n",
      "Epoch 4/10\n",
      "657/657 [==============================] - 153s 233ms/step - loss: 2.4153 - accuracy: 0.2436 - val_loss: 2.5597 - val_accuracy: 0.2410\n",
      "Epoch 5/10\n",
      "657/657 [==============================] - 173s 263ms/step - loss: 2.1368 - accuracy: 0.3271 - val_loss: 2.6139 - val_accuracy: 0.2710\n",
      "Epoch 6/10\n",
      "657/657 [==============================] - 166s 253ms/step - loss: 1.8531 - accuracy: 0.4182 - val_loss: 2.7145 - val_accuracy: 0.2720\n",
      "Epoch 7/10\n",
      "657/657 [==============================] - 170s 258ms/step - loss: 1.5919 - accuracy: 0.4942 - val_loss: 3.1292 - val_accuracy: 0.2510\n",
      "Epoch 8/10\n",
      "657/657 [==============================] - 174s 265ms/step - loss: 1.3841 - accuracy: 0.5552 - val_loss: 3.1321 - val_accuracy: 0.2566\n",
      "Epoch 9/10\n",
      "657/657 [==============================] - 183s 279ms/step - loss: 1.1941 - accuracy: 0.6162 - val_loss: 3.5364 - val_accuracy: 0.2638\n",
      "Epoch 10/10\n",
      "657/657 [==============================] - 183s 279ms/step - loss: 1.0269 - accuracy: 0.6694 - val_loss: 3.8353 - val_accuracy: 0.2520\n"
     ]
    }
   ],
   "source": [
    "num_epochs = 10\n",
    "history = model.fit(training_padded, training_labels, epochs=num_epochs, validation_data=(testing_padded, testing_labels),batch_size=32, verbose=1)"
   ]
  },
  {
   "cell_type": "code",
   "execution_count": 24,
   "metadata": {
    "colab": {
     "base_uri": "https://localhost:8080/",
     "height": 369
    },
    "id": "Rjeqrj3NNYwt",
    "outputId": "a0cad811-6aca-4155-b181-399773936850"
   },
   "outputs": [
    {
     "data": {
      "image/png": "[encoded data removed]",
      "text/plain": [
       "<Figure size 720x360 with 2 Axes>"
      ]
     },
     "metadata": {
      "needs_background": "light"
     },
     "output_type": "display_data"
    }
   ],
   "source": [
    "plot_history(history.history)\n",
    "plt.show()"
   ]
  },
  {
   "cell_type": "markdown",
   "metadata": {},
   "source": [
    "## evaluation"
   ]
  },
  {
   "cell_type": "code",
   "execution_count": 25,
   "metadata": {
    "id": "IEVYKOD1NYrI"
   },
   "outputs": [],
   "source": [
    "result = np.argmax(model.predict(testing_padded), axis=-1)"
   ]
  },
  {
   "cell_type": "code",
   "execution_count": 26,
   "metadata": {
    "colab": {
     "base_uri": "https://localhost:8080/"
    },
    "id": "62yYVxSSVAdj",
    "outputId": "bd1b645f-3f69-4739-ca26-482aa402e6df"
   },
   "outputs": [
    {
     "name": "stdout",
     "output_type": "stream",
     "text": [
      "                      precision    recall  f1-score   support\n",
      "\n",
      "               Egypt       0.63      0.50      0.55      1041\n",
      "                Iraq       0.36      0.25      0.30       664\n",
      "        Saudi_Arabia       0.17      0.33      0.23       520\n",
      "          Mauritania       0.31      0.08      0.12        53\n",
      "             Algeria       0.43      0.29      0.34       430\n",
      "               Syria       0.07      0.05      0.06       278\n",
      "                Oman       0.14      0.27      0.18       355\n",
      "             Tunisia       0.28      0.10      0.15       173\n",
      "             Lebanon       0.07      0.04      0.05       157\n",
      "             Morocco       0.18      0.04      0.07       207\n",
      "            Djibouti       0.00      0.00      0.00        27\n",
      "United_Arab_Emirates       0.06      0.12      0.08       157\n",
      "              Kuwait       0.04      0.08      0.05       105\n",
      "               Libya       0.21      0.12      0.15       314\n",
      "             Bahrain       0.01      0.02      0.01        52\n",
      "               Qatar       0.03      0.04      0.03        52\n",
      "               Yemen       0.09      0.08      0.08       105\n",
      "           Palestine       0.05      0.09      0.07       104\n",
      "              Jordan       0.01      0.02      0.02       104\n",
      "             Somalia       0.03      0.02      0.02        49\n",
      "               Sudan       0.05      0.02      0.03        53\n",
      "\n",
      "            accuracy                           0.24      5000\n",
      "           macro avg       0.15      0.12      0.12      5000\n",
      "        weighted avg       0.29      0.24      0.25      5000\n",
      "\n"
     ]
    }
   ],
   "source": [
    "print(classification_report(test_data['classes_id'].astype(int).tolist(), result, target_names=classes_names))"
   ]
  },
  {
   "cell_type": "code",
   "execution_count": 27,
   "metadata": {
    "colab": {
     "base_uri": "https://localhost:8080/"
    },
    "id": "WC5StuqVYwfp",
    "outputId": "f52072d1-7a56-4eb4-c6eb-7f9ab3a63033"
   },
   "outputs": [
    {
     "name": "stdout",
     "output_type": "stream",
     "text": [
      "0.1235750321075804\n"
     ]
    }
   ],
   "source": [
    "print(f1_score(test_data['classes_id'].astype(int).tolist(), result, average='macro'))"
   ]
  },
  {
   "cell_type": "code",
   "execution_count": null,
   "metadata": {
    "id": "8GG-wQSqhQ_J"
   },
   "outputs": [],
   "source": []
  },
  {
   "cell_type": "code",
   "execution_count": null,
   "metadata": {},
   "outputs": [],
   "source": []
  },
  {
   "cell_type": "code",
   "execution_count": null,
   "metadata": {},
   "outputs": [],
   "source": []
  },
  {
   "cell_type": "markdown",
   "metadata": {},
   "source": [
    "## bidirectional Lstm"
   ]
  },
  {
   "cell_type": "code",
   "execution_count": 42,
   "metadata": {},
   "outputs": [
    {
     "name": "stdout",
     "output_type": "stream",
     "text": [
      "WARNING:tensorflow:Layer lstm_8 will not use cuDNN kernel since it doesn't meet the cuDNN kernel criteria. It will use generic GPU kernel as fallback when running on GPU\n",
      "WARNING:tensorflow:Layer lstm_8 will not use cuDNN kernel since it doesn't meet the cuDNN kernel criteria. It will use generic GPU kernel as fallback when running on GPU\n",
      "WARNING:tensorflow:Layer lstm_8 will not use cuDNN kernel since it doesn't meet the cuDNN kernel criteria. It will use generic GPU kernel as fallback when running on GPU\n"
     ]
    }
   ],
   "source": [
    "bi_directional_LSTM_model = tf.keras.Sequential([\n",
    "    tf.keras.layers.Embedding(vocab_size, embedding_dim, input_length=max_length),\n",
    "#     tf.keras.layers.Bidirectional(tf.keras.layers.LSTM(64, dropout = 0.3, recurrent_dropout = 0.3, return_sequences = True)),\n",
    "    tf.keras.layers.Bidirectional(tf.keras.layers.LSTM(64, dropout = 0.3, recurrent_dropout = 0.3, return_sequences = True)),\n",
    "    tf.keras.layers.GlobalAveragePooling1D(),\n",
    "    tf.keras.layers.Dropout(rate=0.1),\n",
    "    tf.keras.layers.Dense(64, activation='relu'),\n",
    "    tf.keras.layers.Dropout(rate=0.1),\n",
    "    tf.keras.layers.Dense(21, activation='softmax')\n",
    "])\n",
    "bi_directional_LSTM_model.compile(loss='categorical_crossentropy',optimizer='adam',metrics=['accuracy'])"
   ]
  },
  {
   "cell_type": "code",
   "execution_count": null,
   "metadata": {},
   "outputs": [
    {
     "name": "stdout",
     "output_type": "stream",
     "text": [
      "Epoch 1/10\n",
      "657/657 [==============================] - 313s 467ms/step - loss: 2.6752 - accuracy: 0.2003 - val_loss: 2.4769 - val_accuracy: 0.2758\n",
      "Epoch 2/10\n",
      "657/657 [==============================] - 332s 506ms/step - loss: 2.4471 - accuracy: 0.2726 - val_loss: 2.4308 - val_accuracy: 0.2880\n",
      "Epoch 3/10\n",
      "657/657 [==============================] - 359s 546ms/step - loss: 2.1521 - accuracy: 0.3305 - val_loss: 2.5360 - val_accuracy: 0.2830\n",
      "Epoch 4/10\n",
      "657/657 [==============================] - 357s 544ms/step - loss: 1.8577 - accuracy: 0.4092 - val_loss: 2.6341 - val_accuracy: 0.2632\n",
      "Epoch 5/10\n",
      "279/657 [===========>..................] - ETA: 2:44 - loss: 1.5698 - accuracy: 0.5109"
     ]
    }
   ],
   "source": [
    "history = bi_directional_LSTM_model.fit(training_padded, training_labels, epochs=num_epochs, validation_data=(testing_padded, testing_labels),batch_size=32, verbose=1)"
   ]
  },
  {
   "cell_type": "code",
   "execution_count": null,
   "metadata": {},
   "outputs": [],
   "source": [
    "plot_history(history.history)\n",
    "plt.show()"
   ]
  },
  {
   "cell_type": "code",
   "execution_count": null,
   "metadata": {},
   "outputs": [],
   "source": [
    "result = np.argmax(model.predict(testing_padded), axis=-1)"
   ]
  },
  {
   "cell_type": "code",
   "execution_count": null,
   "metadata": {},
   "outputs": [],
   "source": [
    "print(classification_report(test_data['classes_id'].astype(int).tolist(), result, target_names=classes_names))"
   ]
  },
  {
   "cell_type": "code",
   "execution_count": null,
   "metadata": {},
   "outputs": [],
   "source": []
  }
 ],
 "metadata": {
  "accelerator": "GPU",
  "colab": {
   "collapsed_sections": [],
   "name": "NADI.ipynb",
   "provenance": []
  },
  "kernelspec": {
   "display_name": "Python 3",
   "language": "python",
   "name": "python3"
  },
  "language_info": {
   "codemirror_mode": {
    "name": "ipython",
    "version": 3
   },
   "file_extension": ".py",
   "mimetype": "text/x-python",
   "name": "python",
   "nbconvert_exporter": "python",
   "pygments_lexer": "ipython3",
   "version": "3.7.9"
  }
 },
 "nbformat": 4,
 "nbformat_minor": 1
}
