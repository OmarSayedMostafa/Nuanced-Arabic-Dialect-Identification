{
 "cells": [
  {
   "cell_type": "code",
   "execution_count": 1,
   "metadata": {
    "id": "h52kVYC9rxWi"
   },
   "outputs": [],
   "source": [
    "import warnings\n",
    "warnings.filterwarnings(\"ignore\", category=FutureWarning)\n",
    "import pandas as pd\n",
    "import re\n",
    "import random\n",
    "import string\n",
    "import matplotlib.pyplot as plt\n",
    "from utilities import clean_arabic_tweet\n",
    "import tensorflow as tf\n",
    "from tensorflow.keras.preprocessing.text import Tokenizer\n",
    "from tensorflow.keras.preprocessing.text import text_to_word_sequence\n",
    "from tensorflow.keras.utils import to_categorical\n",
    "from utilities import clean_arabic_tweet\n",
    "from tensorflow.keras.preprocessing.image import ImageDataGenerator\n",
    "from tensorflow.keras.callbacks import LearningRateScheduler, CSVLogger, EarlyStopping, ModelCheckpoint, TensorBoard\n",
    "from tensorflow.keras import optimizers\n",
    "from tensorflow.keras.models import Model\n",
    "import tensorflow.keras as keras\n",
    "from tensorflow.keras.models import Sequential\n",
    "from tensorflow.keras.layers import Dense, Dropout, Flatten\n",
    "from tensorflow.keras.layers import Conv2D, MaxPooling2D,BatchNormalization\n",
    "import tensorflow.keras.backend as K\n",
    "from tensorflow.keras.models import load_model\n",
    "\n",
    "from tensorflow.keras.preprocessing.sequence import pad_sequences\n",
    "import gensim\n",
    "import numpy as np\n",
    "from nltk import ngrams\n",
    "from sklearn.metrics import classification_report, f1_score\n",
    "from plot_keras_history import plot_history\n"
   ]
  },
  {
   "cell_type": "code",
   "execution_count": 2,
   "metadata": {
    "id": "u6qLev0pr2yk"
   },
   "outputs": [],
   "source": [
    "pd.set_option('display.max_colwidth', -1)"
   ]
  },
  {
   "cell_type": "code",
   "execution_count": 3,
   "metadata": {
    "id": "HUG_rMbgs9HO"
   },
   "outputs": [],
   "source": [
    "train_data_path = './cleaned_data/cleaned_train_data_for_subtask1.csv'\n",
    "test_data_path = './cleaned_data/cleaned_test_data_for_subtask1.csv'"
   ]
  },
  {
   "cell_type": "code",
   "execution_count": 4,
   "metadata": {
    "id": "0NjeXVBCtFtB"
   },
   "outputs": [],
   "source": [
    "train_data = pd.read_csv(train_data_path)\n",
    "test_data = pd.read_csv(test_data_path)"
   ]
  },
  {
   "cell_type": "code",
   "execution_count": 5,
   "metadata": {},
   "outputs": [
    {
     "data": {
      "text/plain": [
       "<AxesSubplot:>"
      ]
     },
     "execution_count": 5,
     "metadata": {},
     "output_type": "execute_result"
    },
    {
     "data": {
      "image/png": "[encoded data removed]",
      "text/plain": [
       "<Figure size 432x288 with 1 Axes>"
      ]
     },
     "metadata": {
      "needs_background": "light"
     },
     "output_type": "display_data"
    }
   ],
   "source": [
    "fig, ax = plt.subplots()\n",
    "train_data['#3_country_label'].value_counts().plot(ax=ax, kind='bar')"
   ]
  },
  {
   "cell_type": "code",
   "execution_count": 6,
   "metadata": {
    "id": "mMIxNL8VtPsZ"
   },
   "outputs": [],
   "source": [
    "train_x = train_data['#2_tweet_clean_V1'].tolist()\n",
    "train_y = train_data['#classes_id'].tolist()\n",
    "\n",
    "test_x = test_data['#2_tweet_clean_V1'].tolist()\n",
    "test_y = test_data['#classes_id'].tolist()"
   ]
  },
  {
   "cell_type": "code",
   "execution_count": 7,
   "metadata": {},
   "outputs": [
    {
     "data": {
      "text/html": [
       "<div>\n",
       "<style scoped>\n",
       "    .dataframe tbody tr th:only-of-type {\n",
       "        vertical-align: middle;\n",
       "    }\n",
       "\n",
       "    .dataframe tbody tr th {\n",
       "        vertical-align: top;\n",
       "    }\n",
       "\n",
       "    .dataframe thead th {\n",
       "        text-align: right;\n",
       "    }\n",
       "</style>\n",
       "<table border=\"1\" class=\"dataframe\">\n",
       "  <thead>\n",
       "    <tr style=\"text-align: right;\">\n",
       "      <th></th>\n",
       "      <th>#1_tweetid</th>\n",
       "      <th>#2_tweet</th>\n",
       "      <th>#3_country_label</th>\n",
       "      <th>#2_tweet_clean_V1</th>\n",
       "      <th>#2_tweet_clean_V2</th>\n",
       "      <th>#2_tweet_clean_V3</th>\n",
       "      <th>#classes_id</th>\n",
       "    </tr>\n",
       "  </thead>\n",
       "  <tbody>\n",
       "    <tr>\n",
       "      <th>0</th>\n",
       "      <td>TRAIN_0</td>\n",
       "      <td>حاجة حلوة اكيد</td>\n",
       "      <td>Egypt</td>\n",
       "      <td>حاجه حلوه اكيد</td>\n",
       "      <td>حاجه حلوه اكيد</td>\n",
       "      <td>حاجه حلوه اكيد</td>\n",
       "      <td>0</td>\n",
       "    </tr>\n",
       "    <tr>\n",
       "      <th>1</th>\n",
       "      <td>TRAIN_1</td>\n",
       "      <td>عم بشتغلوا للشعب الاميركي اما نحن يكذبوا ويغشوا ويسرقوا ويقتلو شعوبهم ويعملوا لصالح اعدائهم</td>\n",
       "      <td>Iraq</td>\n",
       "      <td>عم بشتغلوا لشعب الاميركي اما نحن يكذبوا ويغشوا ويسرقوا ويقتلو شعوبهم ويعملوا لصالح اعداهم</td>\n",
       "      <td>عم بشتغلوا لشعب الاميركي يكذبوا ويغشوا ويسرقوا ويقتلو شعوبهم ويعملوا لصالح اعداهم</td>\n",
       "      <td>عم بشتغلوا لشعب الاميركي يكذبوا ويغشوا ويسرقوا ويقتلو شعوبهم ويعملوا لصالح اعداهم</td>\n",
       "      <td>1</td>\n",
       "    </tr>\n",
       "    <tr>\n",
       "      <th>2</th>\n",
       "      <td>TRAIN_2</td>\n",
       "      <td>ابشر طال عمرك</td>\n",
       "      <td>Saudi_Arabia</td>\n",
       "      <td>ابشر طال عمرك</td>\n",
       "      <td>ابشر طال عمرك</td>\n",
       "      <td>ابشر طال عمرك</td>\n",
       "      <td>2</td>\n",
       "    </tr>\n",
       "    <tr>\n",
       "      <th>3</th>\n",
       "      <td>TRAIN_3</td>\n",
       "      <td>منطق 2017: أنا والغريب علي إبن عمي وأنا والغريب وإبن عمي علي أخويا. #قطع_العلاقات_مع_قطر #موريتانيا_مع_قطر</td>\n",
       "      <td>Mauritania</td>\n",
       "      <td>منطق انا والغريب علي ابن عمي وانا والغريب وابن عمي علي اخويا قطع العلاقات مع قطر موريتانيا مع قطر</td>\n",
       "      <td>منطق والغريب ابن عمي وانا والغريب وابن عمي اخويا قطع العلاقات قطر موريتانيا قطر</td>\n",
       "      <td>منطق والغريب ابن عمي وانا وابن اخويا قطع العلاقات قطر موريتانيا</td>\n",
       "      <td>3</td>\n",
       "    </tr>\n",
       "    <tr>\n",
       "      <th>4</th>\n",
       "      <td>TRAIN_4</td>\n",
       "      <td>شهرين وتروح والباقي غير صيف ملينا</td>\n",
       "      <td>Algeria</td>\n",
       "      <td>شهرين وتروح والباقي غير صيف ملينا</td>\n",
       "      <td>شهرين وتروح والباقي صيف ملينا</td>\n",
       "      <td>شهرين وتروح والباقي صيف ملينا</td>\n",
       "      <td>4</td>\n",
       "    </tr>\n",
       "  </tbody>\n",
       "</table>\n",
       "</div>"
      ],
      "text/plain": [
       "  #1_tweetid  \\\n",
       "0  TRAIN_0     \n",
       "1  TRAIN_1     \n",
       "2  TRAIN_2     \n",
       "3  TRAIN_3     \n",
       "4  TRAIN_4     \n",
       "\n",
       "                                                                                                     #2_tweet  \\\n",
       "0  حاجة حلوة اكيد                                                                                               \n",
       "1  عم بشتغلوا للشعب الاميركي اما نحن يكذبوا ويغشوا ويسرقوا ويقتلو شعوبهم ويعملوا لصالح اعدائهم                  \n",
       "2  ابشر طال عمرك                                                                                                \n",
       "3  منطق 2017: أنا والغريب علي إبن عمي وأنا والغريب وإبن عمي علي أخويا. #قطع_العلاقات_مع_قطر #موريتانيا_مع_قطر   \n",
       "4  شهرين وتروح والباقي غير صيف ملينا                                                                            \n",
       "\n",
       "  #3_country_label  \\\n",
       "0  Egypt             \n",
       "1  Iraq              \n",
       "2  Saudi_Arabia      \n",
       "3  Mauritania        \n",
       "4  Algeria           \n",
       "\n",
       "                                                                                   #2_tweet_clean_V1  \\\n",
       "0  حاجه حلوه اكيد                                                                                      \n",
       "1  عم بشتغلوا لشعب الاميركي اما نحن يكذبوا ويغشوا ويسرقوا ويقتلو شعوبهم ويعملوا لصالح اعداهم           \n",
       "2  ابشر طال عمرك                                                                                       \n",
       "3  منطق انا والغريب علي ابن عمي وانا والغريب وابن عمي علي اخويا قطع العلاقات مع قطر موريتانيا مع قطر   \n",
       "4  شهرين وتروح والباقي غير صيف ملينا                                                                   \n",
       "\n",
       "                                                                   #2_tweet_clean_V2  \\\n",
       "0  حاجه حلوه اكيد                                                                      \n",
       "1  عم بشتغلوا لشعب الاميركي يكذبوا ويغشوا ويسرقوا ويقتلو شعوبهم ويعملوا لصالح اعداهم   \n",
       "2  ابشر طال عمرك                                                                       \n",
       "3  منطق والغريب ابن عمي وانا والغريب وابن عمي اخويا قطع العلاقات قطر موريتانيا قطر     \n",
       "4  شهرين وتروح والباقي صيف ملينا                                                       \n",
       "\n",
       "                                                                   #2_tweet_clean_V3  \\\n",
       "0  حاجه حلوه اكيد                                                                      \n",
       "1  عم بشتغلوا لشعب الاميركي يكذبوا ويغشوا ويسرقوا ويقتلو شعوبهم ويعملوا لصالح اعداهم   \n",
       "2  ابشر طال عمرك                                                                       \n",
       "3  منطق والغريب ابن عمي وانا وابن اخويا قطع العلاقات قطر موريتانيا                     \n",
       "4  شهرين وتروح والباقي صيف ملينا                                                       \n",
       "\n",
       "   #classes_id  \n",
       "0  0            \n",
       "1  1            \n",
       "2  2            \n",
       "3  3            \n",
       "4  4            "
      ]
     },
     "execution_count": 7,
     "metadata": {},
     "output_type": "execute_result"
    }
   ],
   "source": [
    "train_data.head()"
   ]
  },
  {
   "cell_type": "markdown",
   "metadata": {},
   "source": [
    "## tokanize the trainset for creating the embedding layer"
   ]
  },
  {
   "cell_type": "code",
   "execution_count": null,
   "metadata": {},
   "outputs": [],
   "source": []
  },
  {
   "cell_type": "code",
   "execution_count": 8,
   "metadata": {
    "id": "YGofWTZlMTc-"
   },
   "outputs": [],
   "source": [
    "vocab_size = 50000\n",
    "embedding_dim = 64\n",
    "max_length = 80\n",
    "trunc_type='post'\n",
    "padding_type='post'\n",
    "oov_tok = \"<OOV>\""
   ]
  },
  {
   "cell_type": "code",
   "execution_count": 9,
   "metadata": {
    "id": "4zGc7XpzwHvy"
   },
   "outputs": [],
   "source": [
    "tokenizer = Tokenizer(oov_token=oov_tok, num_words=vocab_size)\n",
    "tokenizer.fit_on_texts(train_x)\n",
    "word_index = tokenizer.word_index\n",
    "sequences = tokenizer.texts_to_sequences(train_x)"
   ]
  },
  {
   "cell_type": "markdown",
   "metadata": {},
   "source": [
    "## padding/truncating tweets to be the same length"
   ]
  },
  {
   "cell_type": "code",
   "execution_count": 10,
   "metadata": {
    "id": "L2Gxp8oWL_Tq"
   },
   "outputs": [],
   "source": [
    "training_sequences = tokenizer.texts_to_sequences(train_x)\n",
    "training_padded = pad_sequences(training_sequences, maxlen=max_length, padding=padding_type, truncating=trunc_type)\n",
    "\n",
    "testing_sequences = tokenizer.texts_to_sequences(test_x)\n",
    "testing_padded = pad_sequences(testing_sequences, maxlen=max_length, padding=padding_type, truncating=trunc_type)"
   ]
  },
  {
   "cell_type": "markdown",
   "metadata": {},
   "source": [
    "## convert labels to categorical from class id to categorical vector"
   ]
  },
  {
   "cell_type": "code",
   "execution_count": 11,
   "metadata": {
    "id": "sm1PEoBdNPAl"
   },
   "outputs": [],
   "source": [
    "train_y = to_categorical(train_y)\n",
    "test_y = to_categorical(test_y)"
   ]
  },
  {
   "cell_type": "code",
   "execution_count": 12,
   "metadata": {
    "id": "J163NzecNJNP"
   },
   "outputs": [],
   "source": [
    "training_padded = np.array(training_padded)\n",
    "training_labels = train_y\n",
    "testing_padded = np.array(testing_padded)\n",
    "testing_labels = test_y"
   ]
  },
  {
   "cell_type": "markdown",
   "metadata": {},
   "source": [
    "import keras\n",
    "import tensorflow\n",
    "from keras.layers import Embedding, SpatialDropout1D, LSTM, Dense\n",
    "\n",
    "model = keras.Sequential()\n",
    "model.add(Embedding(max_no, dim, input_shape=(sql_len,)))\n",
    "model.add(SpatialDropout1D(0.2))\n",
    "model.add(LSTM(100, dropout=0.2, recurrent_dropout=0.2))\n",
    "model.add(Dense(21, activation='softmax'))\n",
    "model.compile(loss='categorical_crossentropy', optimizer='adam', metrics=['accuracy'])\n",
    "\n",
    "epochs = 20\n",
    "batch_size = 64\n",
    "\n",
    "history = model.fit(X_tr, Y_tr, epochs=epochs, batch_size=batch_size,validation_split=0.1)## create the lstm Model"
   ]
  },
  {
   "cell_type": "code",
   "execution_count": 13,
   "metadata": {
    "id": "8Ano4owcNY13"
   },
   "outputs": [
    {
     "name": "stdout",
     "output_type": "stream",
     "text": [
      "WARNING:tensorflow:Layer lstm will not use cuDNN kernel since it doesn't meet the cuDNN kernel criteria. It will use generic GPU kernel as fallback when running on GPU\n"
     ]
    }
   ],
   "source": [
    "model = tf.keras.Sequential([\n",
    "    tf.keras.layers.Embedding(vocab_size, embedding_dim, input_length=max_length),\n",
    "    tf.keras.layers.SpatialDropout1D(0.1),\n",
    "    tf.keras.layers.LSTM(embedding_dim, dropout=0.1,recurrent_dropout=0.1),\n",
    "    tf.keras.layers.Dense(64, activation='relu'),\n",
    "    tf.keras.layers.Dense(21, activation='softmax')\n",
    "])\n",
    "model.compile(loss='categorical_crossentropy',optimizer='adam',metrics=['accuracy'])"
   ]
  },
  {
   "cell_type": "code",
   "execution_count": 14,
   "metadata": {},
   "outputs": [
    {
     "name": "stdout",
     "output_type": "stream",
     "text": [
      "Model: \"sequential\"\n",
      "_________________________________________________________________\n",
      "Layer (type)                 Output Shape              Param #   \n",
      "=================================================================\n",
      "embedding (Embedding)        (None, 80, 64)            3200000   \n",
      "_________________________________________________________________\n",
      "spatial_dropout1d (SpatialDr (None, 80, 64)            0         \n",
      "_________________________________________________________________\n",
      "lstm (LSTM)                  (None, 64)                33024     \n",
      "_________________________________________________________________\n",
      "dense (Dense)                (None, 64)                4160      \n",
      "_________________________________________________________________\n",
      "dense_1 (Dense)              (None, 21)                1365      \n",
      "=================================================================\n",
      "Total params: 3,238,549\n",
      "Trainable params: 3,238,549\n",
      "Non-trainable params: 0\n",
      "_________________________________________________________________\n"
     ]
    }
   ],
   "source": [
    "model.summary()"
   ]
  },
  {
   "cell_type": "markdown",
   "metadata": {},
   "source": [
    "## training "
   ]
  },
  {
   "cell_type": "code",
   "execution_count": null,
   "metadata": {
    "colab": {
     "base_uri": "https://localhost:8080/"
    },
    "id": "_AOsI_ZQNYzX",
    "outputId": "f731af40-1d0e-49d5-8174-b38da4502a5e"
   },
   "outputs": [
    {
     "name": "stdout",
     "output_type": "stream",
     "text": [
      "Epoch 1/20\n",
      "328/328 [==============================] - 89s 262ms/step - loss: 2.6990 - accuracy: 0.2032 - val_loss: 2.6233 - val_accuracy: 0.2083\n",
      "Epoch 2/20\n",
      "328/328 [==============================] - 88s 268ms/step - loss: 2.6318 - accuracy: 0.2068 - val_loss: 2.6254 - val_accuracy: 0.2083\n",
      "Epoch 3/20\n",
      "328/328 [==============================] - 88s 268ms/step - loss: 2.6382 - accuracy: 0.2037 - val_loss: 2.6216 - val_accuracy: 0.2083\n",
      "Epoch 4/20\n",
      " 82/328 [======>.......................] - ETA: 1:05 - loss: 2.6245 - accuracy: 0.2102"
     ]
    }
   ],
   "source": [
    "num_epochs = 20\n",
    "history = model.fit(training_padded, training_labels, epochs=num_epochs, validation_data=(testing_padded, testing_labels),batch_size=64, verbose=1)"
   ]
  },
  {
   "cell_type": "code",
   "execution_count": null,
   "metadata": {
    "colab": {
     "base_uri": "https://localhost:8080/",
     "height": 369
    },
    "id": "Rjeqrj3NNYwt",
    "outputId": "a0cad811-6aca-4155-b181-399773936850"
   },
   "outputs": [],
   "source": [
    "plot_history(history.history)\n",
    "plt.show()"
   ]
  },
  {
   "cell_type": "markdown",
   "metadata": {},
   "source": [
    "## evaluation"
   ]
  },
  {
   "cell_type": "code",
   "execution_count": 25,
   "metadata": {
    "id": "IEVYKOD1NYrI"
   },
   "outputs": [],
   "source": [
    "result = np.argmax(model.predict(testing_padded), axis=-1)"
   ]
  },
  {
   "cell_type": "code",
   "execution_count": 26,
   "metadata": {
    "colab": {
     "base_uri": "https://localhost:8080/"
    },
    "id": "62yYVxSSVAdj",
    "outputId": "bd1b645f-3f69-4739-ca26-482aa402e6df"
   },
   "outputs": [
    {
     "name": "stdout",
     "output_type": "stream",
     "text": [
      "                      precision    recall  f1-score   support\n",
      "\n",
      "               Egypt       0.63      0.50      0.55      1041\n",
      "                Iraq       0.36      0.25      0.30       664\n",
      "        Saudi_Arabia       0.17      0.33      0.23       520\n",
      "          Mauritania       0.31      0.08      0.12        53\n",
      "             Algeria       0.43      0.29      0.34       430\n",
      "               Syria       0.07      0.05      0.06       278\n",
      "                Oman       0.14      0.27      0.18       355\n",
      "             Tunisia       0.28      0.10      0.15       173\n",
      "             Lebanon       0.07      0.04      0.05       157\n",
      "             Morocco       0.18      0.04      0.07       207\n",
      "            Djibouti       0.00      0.00      0.00        27\n",
      "United_Arab_Emirates       0.06      0.12      0.08       157\n",
      "              Kuwait       0.04      0.08      0.05       105\n",
      "               Libya       0.21      0.12      0.15       314\n",
      "             Bahrain       0.01      0.02      0.01        52\n",
      "               Qatar       0.03      0.04      0.03        52\n",
      "               Yemen       0.09      0.08      0.08       105\n",
      "           Palestine       0.05      0.09      0.07       104\n",
      "              Jordan       0.01      0.02      0.02       104\n",
      "             Somalia       0.03      0.02      0.02        49\n",
      "               Sudan       0.05      0.02      0.03        53\n",
      "\n",
      "            accuracy                           0.24      5000\n",
      "           macro avg       0.15      0.12      0.12      5000\n",
      "        weighted avg       0.29      0.24      0.25      5000\n",
      "\n"
     ]
    }
   ],
   "source": [
    "print(classification_report(test_data['classes_id'].astype(int).tolist(), result, target_names=classes_names))"
   ]
  },
  {
   "cell_type": "code",
   "execution_count": 27,
   "metadata": {
    "colab": {
     "base_uri": "https://localhost:8080/"
    },
    "id": "WC5StuqVYwfp",
    "outputId": "f52072d1-7a56-4eb4-c6eb-7f9ab3a63033"
   },
   "outputs": [
    {
     "name": "stdout",
     "output_type": "stream",
     "text": [
      "0.1235750321075804\n"
     ]
    }
   ],
   "source": [
    "print(f1_score(test_data['classes_id'].astype(int).tolist(), result, average='macro'))"
   ]
  },
  {
   "cell_type": "code",
   "execution_count": null,
   "metadata": {
    "id": "8GG-wQSqhQ_J"
   },
   "outputs": [],
   "source": []
  },
  {
   "cell_type": "code",
   "execution_count": null,
   "metadata": {},
   "outputs": [],
   "source": []
  },
  {
   "cell_type": "code",
   "execution_count": null,
   "metadata": {},
   "outputs": [],
   "source": []
  },
  {
   "cell_type": "markdown",
   "metadata": {},
   "source": [
    "## bidirectional Lstm"
   ]
  },
  {
   "cell_type": "code",
   "execution_count": 42,
   "metadata": {},
   "outputs": [
    {
     "name": "stdout",
     "output_type": "stream",
     "text": [
      "WARNING:tensorflow:Layer lstm_8 will not use cuDNN kernel since it doesn't meet the cuDNN kernel criteria. It will use generic GPU kernel as fallback when running on GPU\n",
      "WARNING:tensorflow:Layer lstm_8 will not use cuDNN kernel since it doesn't meet the cuDNN kernel criteria. It will use generic GPU kernel as fallback when running on GPU\n",
      "WARNING:tensorflow:Layer lstm_8 will not use cuDNN kernel since it doesn't meet the cuDNN kernel criteria. It will use generic GPU kernel as fallback when running on GPU\n"
     ]
    }
   ],
   "source": [
    "bi_directional_LSTM_model = tf.keras.Sequential([\n",
    "    tf.keras.layers.Embedding(vocab_size, embedding_dim, input_length=max_length),\n",
    "#     tf.keras.layers.Bidirectional(tf.keras.layers.LSTM(64, dropout = 0.3, recurrent_dropout = 0.3, return_sequences = True)),\n",
    "    tf.keras.layers.Bidirectional(tf.keras.layers.LSTM(64, dropout = 0.3, recurrent_dropout = 0.3, return_sequences = True)),\n",
    "    tf.keras.layers.GlobalAveragePooling1D(),\n",
    "    tf.keras.layers.Dropout(rate=0.1),\n",
    "    tf.keras.layers.Dense(64, activation='relu'),\n",
    "    tf.keras.layers.Dropout(rate=0.1),\n",
    "    tf.keras.layers.Dense(21, activation='softmax')\n",
    "])\n",
    "bi_directional_LSTM_model.compile(loss='categorical_crossentropy',optimizer='adam',metrics=['accuracy'])"
   ]
  },
  {
   "cell_type": "code",
   "execution_count": 43,
   "metadata": {},
   "outputs": [
    {
     "name": "stdout",
     "output_type": "stream",
     "text": [
      "Epoch 1/10\n",
      "657/657 [==============================] - 313s 467ms/step - loss: 2.6752 - accuracy: 0.2003 - val_loss: 2.4769 - val_accuracy: 0.2758\n",
      "Epoch 2/10\n",
      "657/657 [==============================] - 332s 506ms/step - loss: 2.4471 - accuracy: 0.2726 - val_loss: 2.4308 - val_accuracy: 0.2880\n",
      "Epoch 3/10\n",
      "657/657 [==============================] - 359s 546ms/step - loss: 2.1521 - accuracy: 0.3305 - val_loss: 2.5360 - val_accuracy: 0.2830\n",
      "Epoch 4/10\n",
      "657/657 [==============================] - 357s 544ms/step - loss: 1.8577 - accuracy: 0.4092 - val_loss: 2.6341 - val_accuracy: 0.2632\n",
      "Epoch 5/10\n",
      "657/657 [==============================] - 303s 461ms/step - loss: 1.5491 - accuracy: 0.5170 - val_loss: 2.8092 - val_accuracy: 0.2780\n",
      "Epoch 6/10\n",
      "657/657 [==============================] - 289s 440ms/step - loss: 1.2074 - accuracy: 0.6249 - val_loss: 3.0904 - val_accuracy: 0.2862\n",
      "Epoch 7/10\n",
      "657/657 [==============================] - 267s 407ms/step - loss: 0.9812 - accuracy: 0.6989 - val_loss: 3.3702 - val_accuracy: 0.2704\n",
      "Epoch 8/10\n",
      "657/657 [==============================] - 268s 408ms/step - loss: 0.8081 - accuracy: 0.7454 - val_loss: 3.7221 - val_accuracy: 0.2696\n",
      "Epoch 9/10\n",
      "657/657 [==============================] - 314s 478ms/step - loss: 0.6901 - accuracy: 0.7841 - val_loss: 3.7457 - val_accuracy: 0.2626\n",
      "Epoch 10/10\n",
      "657/657 [==============================] - 309s 471ms/step - loss: 0.5614 - accuracy: 0.8258 - val_loss: 4.0716 - val_accuracy: 0.2754\n"
     ]
    }
   ],
   "source": [
    "history = bi_directional_LSTM_model.fit(training_padded, training_labels, epochs=num_epochs, validation_data=(testing_padded, testing_labels),batch_size=32, verbose=1)"
   ]
  },
  {
   "cell_type": "code",
   "execution_count": 44,
   "metadata": {},
   "outputs": [
    {
     "data": {
      "image/png": "[encoded data removed]",
      "text/plain": [
       "<Figure size 720x360 with 2 Axes>"
      ]
     },
     "metadata": {
      "needs_background": "light"
     },
     "output_type": "display_data"
    }
   ],
   "source": [
    "plot_history(history.history)\n",
    "plt.show()"
   ]
  },
  {
   "cell_type": "code",
   "execution_count": 47,
   "metadata": {},
   "outputs": [],
   "source": [
    "result = np.argmax(bi_directional_LSTM_model.predict(testing_padded), axis=-1)"
   ]
  },
  {
   "cell_type": "code",
   "execution_count": 48,
   "metadata": {},
   "outputs": [
    {
     "name": "stdout",
     "output_type": "stream",
     "text": [
      "                      precision    recall  f1-score   support\n",
      "\n",
      "               Egypt       0.56      0.63      0.60      1041\n",
      "                Iraq       0.45      0.28      0.34       664\n",
      "        Saudi_Arabia       0.18      0.30      0.22       520\n",
      "          Mauritania       0.10      0.04      0.05        53\n",
      "             Algeria       0.37      0.33      0.35       430\n",
      "               Syria       0.09      0.07      0.08       278\n",
      "                Oman       0.17      0.19      0.18       355\n",
      "             Tunisia       0.13      0.08      0.10       173\n",
      "             Lebanon       0.09      0.04      0.05       157\n",
      "             Morocco       0.09      0.07      0.08       207\n",
      "            Djibouti       0.00      0.00      0.00        27\n",
      "United_Arab_Emirates       0.08      0.10      0.09       157\n",
      "              Kuwait       0.03      0.02      0.02       105\n",
      "               Libya       0.18      0.26      0.21       314\n",
      "             Bahrain       0.04      0.04      0.04        52\n",
      "               Qatar       0.00      0.00      0.00        52\n",
      "               Yemen       0.04      0.03      0.03       105\n",
      "           Palestine       0.06      0.06      0.06       104\n",
      "              Jordan       0.01      0.01      0.01       104\n",
      "             Somalia       0.00      0.00      0.00        49\n",
      "               Sudan       0.25      0.04      0.07        53\n",
      "\n",
      "            accuracy                           0.28      5000\n",
      "           macro avg       0.14      0.12      0.12      5000\n",
      "        weighted avg       0.28      0.28      0.27      5000\n",
      "\n"
     ]
    }
   ],
   "source": [
    "print(classification_report(test_data['classes_id'].astype(int).tolist(), result, target_names=classes_names))"
   ]
  },
  {
   "cell_type": "code",
   "execution_count": null,
   "metadata": {},
   "outputs": [],
   "source": []
  }
 ],
 "metadata": {
  "accelerator": "GPU",
  "colab": {
   "collapsed_sections": [],
   "name": "NADI.ipynb",
   "provenance": []
  },
  "kernelspec": {
   "display_name": "Python 3",
   "language": "python",
   "name": "python3"
  },
  "language_info": {
   "codemirror_mode": {
    "name": "ipython",
    "version": 3
   },
   "file_extension": ".py",
   "mimetype": "text/x-python",
   "name": "python",
   "nbconvert_exporter": "python",
   "pygments_lexer": "ipython3",
   "version": "3.7.9"
  }
 },
 "nbformat": 4,
 "nbformat_minor": 1
}
