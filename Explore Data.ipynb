{
 "cells": [
  {
   "cell_type": "code",
   "execution_count": 35,
   "metadata": {},
   "outputs": [],
   "source": [
    "import numpy as np \n",
    "import pandas as pd\n",
    "import matplotlib.pyplot as plt\n",
    "import seaborn as sns\n",
    "from IPython.display import display, HTML"
   ]
  },
  {
   "cell_type": "code",
   "execution_count": 36,
   "metadata": {},
   "outputs": [
    {
     "name": "stdout",
     "output_type": "stream",
     "text": [
      "(21000, 4)\n"
     ]
    },
    {
     "data": {
      "text/html": [
       "<table border=\"1\" class=\"dataframe\">\n",
       "  <thead>\n",
       "    <tr style=\"text-align: right;\">\n",
       "      <th></th>\n",
       "      <th>#1_tweetid</th>\n",
       "      <th>#2_tweet</th>\n",
       "      <th>#3_country_label</th>\n",
       "      <th>#2_tweet_clean</th>\n",
       "    </tr>\n",
       "  </thead>\n",
       "  <tbody>\n",
       "    <tr>\n",
       "      <th>0</th>\n",
       "      <td>TRAIN_0</td>\n",
       "      <td>حاجة حلوة اكيد</td>\n",
       "      <td>Egypt</td>\n",
       "      <td>حاجه حلوه اكيد</td>\n",
       "    </tr>\n",
       "    <tr>\n",
       "      <th>1</th>\n",
       "      <td>TRAIN_1</td>\n",
       "      <td>عم بشتغلوا للشعب الاميركي اما نحن يكذبوا ويغشوا ويسرقوا ويقتلو شعوبهم ويعملوا لصالح اعدائهم</td>\n",
       "      <td>Iraq</td>\n",
       "      <td>عم بشتغلوا لشعب الاميركي اما نحن يكذبوا ويغشوا ويسرقوا ويقتلو شعوبهم ويعملوا لصالح اعداءهم</td>\n",
       "    </tr>\n",
       "    <tr>\n",
       "      <th>2</th>\n",
       "      <td>TRAIN_2</td>\n",
       "      <td>ابشر طال عمرك</td>\n",
       "      <td>Saudi_Arabia</td>\n",
       "      <td>ابشر طال عمرك</td>\n",
       "    </tr>\n",
       "    <tr>\n",
       "      <th>3</th>\n",
       "      <td>TRAIN_3</td>\n",
       "      <td>منطق 2017: أنا والغريب علي إبن عمي وأنا والغريب وإبن عمي علي أخويا. #قطع_العلاقات_مع_قطر #موريتانيا_مع_قطر</td>\n",
       "      <td>Mauritania</td>\n",
       "      <td>منطق انا والغريب علي ابن عمي وانا والغريب وابن عمي علي اخويا قطع العلاقات مع قطر موريتانيا مع قطر</td>\n",
       "    </tr>\n",
       "    <tr>\n",
       "      <th>4</th>\n",
       "      <td>TRAIN_4</td>\n",
       "      <td>شهرين وتروح والباقي غير صيف ملينا</td>\n",
       "      <td>Algeria</td>\n",
       "      <td>شهرين وتروح والباقي غير صيف ملينا</td>\n",
       "    </tr>\n",
       "  </tbody>\n",
       "</table>"
      ],
      "text/plain": [
       "<IPython.core.display.HTML object>"
      ]
     },
     "metadata": {},
     "output_type": "display_data"
    }
   ],
   "source": [
    "data = pd.read_csv('cleaned_data/cleaned_train_data_for_subtask1.csv')\n",
    "\n",
    "print(data.shape)\n",
    "display(HTML(data.head().to_html()))\n"
   ]
  },
  {
   "cell_type": "code",
   "execution_count": 37,
   "metadata": {},
   "outputs": [
    {
     "data": {
      "image/png": "[encoded data removed]",
      "text/plain": [
       "<Figure size 432x288 with 1 Axes>"
      ]
     },
     "metadata": {
      "needs_background": "light"
     },
     "output_type": "display_data"
    }
   ],
   "source": [
    "data[\"#3_country_label\"].value_counts().plot.bar()\n",
    "y = data[\"#3_country_label\"]"
   ]
  },
  {
   "cell_type": "code",
   "execution_count": 39,
   "metadata": {},
   "outputs": [
    {
     "name": "stdout",
     "output_type": "stream",
     "text": [
      "Collecting sklearn\n",
      "  Downloading sklearn-0.0.tar.gz (1.1 kB)\n",
      "Collecting scikit-learn\n",
      "  Downloading scikit_learn-0.24.0-cp38-cp38-win_amd64.whl (6.9 MB)\n",
      "Requirement already satisfied: scipy>=0.19.1 in c:\\users\\maryam\\anaconda3\\lib\\site-packages (from scikit-learn->sklearn) (1.5.4)\n",
      "Requirement already satisfied: joblib>=0.11 in c:\\users\\maryam\\anaconda3\\lib\\site-packages (from scikit-learn->sklearn) (1.0.0)\n",
      "Requirement already satisfied: numpy>=1.13.3 in c:\\users\\maryam\\anaconda3\\lib\\site-packages (from scikit-learn->sklearn) (1.19.3)\n",
      "Requirement already satisfied: numpy>=1.13.3 in c:\\users\\maryam\\anaconda3\\lib\\site-packages (from scikit-learn->sklearn) (1.19.3)\n",
      "Collecting threadpoolctl>=2.0.0\n",
      "  Downloading threadpoolctl-2.1.0-py3-none-any.whl (12 kB)\n",
      "Building wheels for collected packages: sklearn\n",
      "  Building wheel for sklearn (setup.py): started\n",
      "  Building wheel for sklearn (setup.py): finished with status 'done'\n",
      "  Created wheel for sklearn: filename=sklearn-0.0-py2.py3-none-any.whl size=1321 sha256=119d770fd3a2797a5c67f20ed1f451a23e575ec4003e33253550a4ef4a9b0ba7\n",
      "  Stored in directory: c:\\users\\maryam\\appdata\\local\\pip\\cache\\wheels\\22\\0b\\40\\fd3f795caaa1fb4c6cb738bc1f56100be1e57da95849bfc897\n",
      "Successfully built sklearn\n",
      "Installing collected packages: threadpoolctl, scikit-learn, sklearn\n",
      "Successfully installed scikit-learn-0.24.0 sklearn-0.0 threadpoolctl-2.1.0\n"
     ]
    }
   ],
   "source": [
    "!pip install sklearn"
   ]
  },
  {
   "cell_type": "code",
   "execution_count": 40,
   "metadata": {},
   "outputs": [
    {
     "name": "stderr",
     "output_type": "stream",
     "text": [
      "C:\\Users\\maryam\\anaconda3\\lib\\site-packages\\sklearn\\utils\\validation.py:70: FutureWarning: Pass classes=['Algeria' 'Bahrain' 'Djibouti' 'Egypt' 'Iraq' 'Jordan' 'Kuwait' 'Lebanon'\n",
      " 'Libya' 'Mauritania' 'Morocco' 'Oman' 'Palestine' 'Qatar' 'Saudi_Arabia'\n",
      " 'Somalia' 'Sudan' 'Syria' 'Tunisia' 'United_Arab_Emirates' 'Yemen'], y=0               Egypt\n",
      "1                Iraq\n",
      "2        Saudi_Arabia\n",
      "3          Mauritania\n",
      "4             Algeria\n",
      "             ...     \n",
      "20995         Algeria\n",
      "20996            Iraq\n",
      "20997            Iraq\n",
      "20998           Egypt\n",
      "20999         Lebanon\n",
      "Name: #3_country_label, Length: 21000, dtype: object as keyword args. From version 1.0 (renaming of 0.25) passing these as positional arguments will result in an error\n",
      "  warnings.warn(f\"Pass {args_msg} as keyword args. From version \"\n"
     ]
    }
   ],
   "source": [
    "from sklearn.utils.class_weight import compute_class_weight\n",
    "class_weights = compute_class_weight('balanced', np.unique(y), y)"
   ]
  },
  {
   "cell_type": "code",
   "execution_count": 41,
   "metadata": {},
   "outputs": [
    {
     "data": {
      "text/plain": [
       "array([0.5527916 , 4.65116279, 4.65116279, 0.2334812 , 0.36643459,\n",
       "       2.33100233, 2.33100233, 1.55279503, 0.77760498, 4.65116279,\n",
       "       1.16550117, 0.66622252, 2.3364486 , 4.65116279, 0.46728972,\n",
       "       5.81395349, 4.65116279, 0.77700078, 1.16414435, 1.5576324 ,\n",
       "       2.33100233])"
      ]
     },
     "execution_count": 41,
     "metadata": {},
     "output_type": "execute_result"
    }
   ],
   "source": [
    "class_weights"
   ]
  },
  {
   "cell_type": "markdown",
   "metadata": {},
   "source": [
    "The plot shows that data is biased to OBJ label so we'll need to augment data for other labels."
   ]
  },
  {
   "cell_type": "code",
   "execution_count": 10,
   "metadata": {},
   "outputs": [
    {
     "name": "stdout",
     "output_type": "stream",
     "text": [
      "Collecting pyarabic\n",
      "  Downloading PyArabic-0.6.10.tar.gz (108 kB)\n",
      "Building wheels for collected packages: pyarabic\n",
      "  Building wheel for pyarabic (setup.py): started\n",
      "  Building wheel for pyarabic (setup.py): finished with status 'done'\n",
      "  Created wheel for pyarabic: filename=PyArabic-0.6.10-py3-none-any.whl size=113327 sha256=523d915e235dc3601c71d24adf8c2f3a2d79ad23724a04cbdec22ec9603af992\n",
      "  Stored in directory: c:\\users\\maryam\\appdata\\local\\pip\\cache\\wheels\\fe\\66\\1f\\0d50cbcd83faaff2f1bda4b945de19d3d513995ff94ae4e4d5\n",
      "Successfully built pyarabic\n",
      "Installing collected packages: pyarabic\n",
      "Successfully installed pyarabic-0.6.10\n"
     ]
    }
   ],
   "source": [
    "!pip install pyarabic"
   ]
  },
  {
   "cell_type": "code",
   "execution_count": 28,
   "metadata": {},
   "outputs": [
    {
     "name": "stdout",
     "output_type": "stream",
     "text": [
      "4283\n"
     ]
    },
    {
     "data": {
      "text/html": [
       "<div>\n",
       "<style scoped>\n",
       "    .dataframe tbody tr th:only-of-type {\n",
       "        vertical-align: middle;\n",
       "    }\n",
       "\n",
       "    .dataframe tbody tr th {\n",
       "        vertical-align: top;\n",
       "    }\n",
       "\n",
       "    .dataframe thead th {\n",
       "        text-align: right;\n",
       "    }\n",
       "</style>\n",
       "<table border=\"1\" class=\"dataframe\">\n",
       "  <thead>\n",
       "    <tr style=\"text-align: right;\">\n",
       "      <th></th>\n",
       "      <th>#1_tweetid</th>\n",
       "      <th>#2_tweet</th>\n",
       "      <th>#3_country_label</th>\n",
       "      <th>#2_tweet_clean</th>\n",
       "    </tr>\n",
       "  </thead>\n",
       "  <tbody>\n",
       "    <tr>\n",
       "      <th>169</th>\n",
       "      <td>TRAIN_169</td>\n",
       "      <td>لكن م شاء الله ،، كونك تتذكرها دي حاجة بعيدة</td>\n",
       "      <td>Sudan</td>\n",
       "      <td>لكن م شاء اله كونك تذكرها دي حاجه بعيده</td>\n",
       "    </tr>\n",
       "    <tr>\n",
       "      <th>375</th>\n",
       "      <td>TRAIN_375</td>\n",
       "      <td>ايه .. بعد اول صبي وفي اول حفل عيد زواج راح تل...</td>\n",
       "      <td>Sudan</td>\n",
       "      <td>ايه بعد اول صبي وفي اول حفل عيد زواج راح تلقي ...</td>\n",
       "    </tr>\n",
       "    <tr>\n",
       "      <th>449</th>\n",
       "      <td>TRAIN_449</td>\n",
       "      <td>اديتني نصيحة وقلت ليك لا شكراً وين حسا قلت جابرني</td>\n",
       "      <td>Sudan</td>\n",
       "      <td>اديتني نصيحه وقلت ليك لا شكرا وين حسا قلت جابرني</td>\n",
       "    </tr>\n",
       "    <tr>\n",
       "      <th>581</th>\n",
       "      <td>TRAIN_581</td>\n",
       "      <td>ريك شنو في الظرافة دي</td>\n",
       "      <td>Sudan</td>\n",
       "      <td>ريك شنو في الظرافه دي</td>\n",
       "    </tr>\n",
       "    <tr>\n",
       "      <th>616</th>\n",
       "      <td>TRAIN_616</td>\n",
       "      <td>USER   USER   USER  اي معاك حق ،، لكن الكتابة...</td>\n",
       "      <td>Sudan</td>\n",
       "      <td>اي معاك حق لكن الكتابه بتجذب الناس الظابطين</td>\n",
       "    </tr>\n",
       "    <tr>\n",
       "      <th>...</th>\n",
       "      <td>...</td>\n",
       "      <td>...</td>\n",
       "      <td>...</td>\n",
       "      <td>...</td>\n",
       "    </tr>\n",
       "    <tr>\n",
       "      <th>20129</th>\n",
       "      <td>TRAIN_20129</td>\n",
       "      <td>USER  وده الحاصل هسي</td>\n",
       "      <td>Sudan</td>\n",
       "      <td>وده الحاصل هسي</td>\n",
       "    </tr>\n",
       "    <tr>\n",
       "      <th>20153</th>\n",
       "      <td>TRAIN_20153</td>\n",
       "      <td>الحلو مر ..متوفر بكثره</td>\n",
       "      <td>Sudan</td>\n",
       "      <td>الحلو مر متوفر بكثره</td>\n",
       "    </tr>\n",
       "    <tr>\n",
       "      <th>20388</th>\n",
       "      <td>TRAIN_20388</td>\n",
       "      <td>A وكابتن كمان والله يا غازي شكلك اول العالم في...</td>\n",
       "      <td>Sudan</td>\n",
       "      <td>وكابتن كمان واله ياغازي شكلك اول العالم في ال...</td>\n",
       "    </tr>\n",
       "    <tr>\n",
       "      <th>20460</th>\n",
       "      <td>TRAIN_20460</td>\n",
       "      <td>لالا م في اي كسير تلج حاصل ،، لكن بي كسير تلج ...</td>\n",
       "      <td>Sudan</td>\n",
       "      <td>لالا م في اي كسير تلج حاصل لكن بي كسير تلج بي ...</td>\n",
       "    </tr>\n",
       "    <tr>\n",
       "      <th>20484</th>\n",
       "      <td>TRAIN_20484</td>\n",
       "      <td>اكتفي بهذا القدر من تويتر لانو الواحد بحاول يط...</td>\n",
       "      <td>Sudan</td>\n",
       "      <td>اكتفي بهذا القدر من تويتر لانو الواحد بحاول يط...</td>\n",
       "    </tr>\n",
       "  </tbody>\n",
       "</table>\n",
       "<p>215 rows × 4 columns</p>\n",
       "</div>"
      ],
      "text/plain": [
       "        #1_tweetid                                           #2_tweet  \\\n",
       "169      TRAIN_169       لكن م شاء الله ،، كونك تتذكرها دي حاجة بعيدة   \n",
       "375      TRAIN_375  ايه .. بعد اول صبي وفي اول حفل عيد زواج راح تل...   \n",
       "449      TRAIN_449  اديتني نصيحة وقلت ليك لا شكراً وين حسا قلت جابرني   \n",
       "581      TRAIN_581                              ريك شنو في الظرافة دي   \n",
       "616      TRAIN_616   USER   USER   USER  اي معاك حق ،، لكن الكتابة...   \n",
       "...            ...                                                ...   \n",
       "20129  TRAIN_20129                               USER  وده الحاصل هسي   \n",
       "20153  TRAIN_20153                             الحلو مر ..متوفر بكثره   \n",
       "20388  TRAIN_20388  A وكابتن كمان والله يا غازي شكلك اول العالم في...   \n",
       "20460  TRAIN_20460  لالا م في اي كسير تلج حاصل ،، لكن بي كسير تلج ...   \n",
       "20484  TRAIN_20484  اكتفي بهذا القدر من تويتر لانو الواحد بحاول يط...   \n",
       "\n",
       "      #3_country_label                                     #2_tweet_clean  \n",
       "169              Sudan            لكن م شاء اله كونك تذكرها دي حاجه بعيده  \n",
       "375              Sudan  ايه بعد اول صبي وفي اول حفل عيد زواج راح تلقي ...  \n",
       "449              Sudan   اديتني نصيحه وقلت ليك لا شكرا وين حسا قلت جابرني  \n",
       "581              Sudan                              ريك شنو في الظرافه دي  \n",
       "616              Sudan        اي معاك حق لكن الكتابه بتجذب الناس الظابطين  \n",
       "...                ...                                                ...  \n",
       "20129            Sudan                                     وده الحاصل هسي  \n",
       "20153            Sudan                               الحلو مر متوفر بكثره  \n",
       "20388            Sudan   وكابتن كمان واله ياغازي شكلك اول العالم في ال...  \n",
       "20460            Sudan  لالا م في اي كسير تلج حاصل لكن بي كسير تلج بي ...  \n",
       "20484            Sudan  اكتفي بهذا القدر من تويتر لانو الواحد بحاول يط...  \n",
       "\n",
       "[215 rows x 4 columns]"
      ]
     },
     "execution_count": 28,
     "metadata": {},
     "output_type": "execute_result"
    }
   ],
   "source": [
    " print(len(data.loc[data['#3_country_label'] == \"Egypt\"][\"#2_tweet\"]))\n",
    "data.loc[data['#3_country_label'] == country]"
   ]
  },
  {
   "cell_type": "markdown",
   "metadata": {},
   "source": [
    "# Augment Data"
   ]
  },
  {
   "cell_type": "code",
   "execution_count": 29,
   "metadata": {},
   "outputs": [],
   "source": [
    "from nltk import sent_tokenize\n",
    "import pandas as pd\n",
    "import random\n",
    "import pyarabic.araby as araby\n",
    "\n",
    "def tokenize(text):\n",
    "    '''text: list of text documents'''\n",
    "    tokenized  = araby.tokenize(text)\n",
    "    return tokenized\n",
    "\n",
    "def shuffle_tokenized(text):\n",
    "    random.shuffle(text)\n",
    "    newl=list(text)\n",
    "    shuffled.append(newl)\n",
    "    return text\n"
   ]
  },
  {
   "cell_type": "code",
   "execution_count": 31,
   "metadata": {},
   "outputs": [
    {
     "name": "stdout",
     "output_type": "stream",
     "text": [
      "4283\n",
      "4291\n",
      "2425\n",
      "4290\n",
      "4283\n",
      "4293\n",
      "4291\n",
      "4288\n",
      "4292\n",
      "2385\n",
      "4287\n",
      "4286\n",
      "4285\n",
      "2452\n",
      "2386\n",
      "4284\n",
      "4286\n",
      "4283\n",
      "1847\n",
      "2288\n"
     ]
    }
   ],
   "source": [
    "\n",
    "for country in data[\"#3_country_label\"].unique()[1:]:\n",
    "    augmented = []\n",
    "    reps=[]\n",
    "    for tweet in data.loc[data['#3_country_label'] == country][\"#2_tweet_clean\"]:\n",
    "        tok = tokenize(tweet)\n",
    "        shuffled= [tok]\n",
    "\n",
    "        #print(ng_rev)\n",
    "        for i in range(11):\n",
    "        #generate 11 new reviews\n",
    "            shuffle_tokenized(shuffled[-1])\n",
    "           # print(shuffled)\n",
    "        for k in shuffled:\n",
    "            '''create new review by joining the shuffled sentences'''\n",
    "            s = ' '\n",
    "            new_rev = s.join(k)\n",
    "\n",
    "            if new_rev not in data[\"#2_tweet\"].values :\n",
    "                df = pd.DataFrame({\n",
    "                        \"#3_country_label\" : [country],\n",
    "                        \"#2_tweet\":[new_rev],\n",
    "                    \"#2_tweet_clean\":[new_rev]\n",
    "                        })\n",
    "                data = data.append(df, ignore_index = True,sort=False)\n",
    "                augmented.append(new_rev)\n",
    "        if (len(data.loc[data['#3_country_label'] == country][\"#2_tweet\"]) >= len(data.loc[data['#3_country_label'] == \"Egypt\"][\"#2_tweet\"])):\n",
    "            break\n",
    "    print(len(data.loc[data['#3_country_label'] == country][\"#2_tweet\"]))\n"
   ]
  },
  {
   "cell_type": "code",
   "execution_count": 34,
   "metadata": {},
   "outputs": [],
   "source": [
    "data.to_csv('data/AugmentedData.csv')"
   ]
  },
  {
   "cell_type": "markdown",
   "metadata": {},
   "source": [
    "# Read Augmented data"
   ]
  },
  {
   "cell_type": "code",
   "execution_count": 32,
   "metadata": {},
   "outputs": [
    {
     "data": {
      "text/plain": [
       "<AxesSubplot:>"
      ]
     },
     "execution_count": 32,
     "metadata": {},
     "output_type": "execute_result"
    },
    {
     "data": {
      "image/png": "[encoded data removed]",
      "text/plain": [
       "<Figure size 432x288 with 1 Axes>"
      ]
     },
     "metadata": {
      "needs_background": "light"
     },
     "output_type": "display_data"
    }
   ],
   "source": [
    "data[\"#3_country_label\"].value_counts().plot.bar()"
   ]
  },
  {
   "cell_type": "code",
   "execution_count": 33,
   "metadata": {},
   "outputs": [
    {
     "data": {
      "text/plain": [
       "78083    بهذا ما لانو ب المهم حسا الموضوع وبهمهم لا بال...\n",
       "78084    الواحد العداله من الوحيدين والفوره الموضوع ديل...\n",
       "78085    انو يطول من دا بيتاخد اكتفي وكانو القدر بالو ل...\n",
       "78086    القضيه لانو القدر تحقيق لانو حسا طبعا الوحيدين...\n",
       "78087    العبيطه بهذا الوحيدين وكانو ويفهم ديل المهم ب ...\n",
       "Name: #2_tweet, dtype: object"
      ]
     },
     "execution_count": 33,
     "metadata": {},
     "output_type": "execute_result"
    }
   ],
   "source": [
    "data[\"#2_tweet\"].tail()"
   ]
  },
  {
   "cell_type": "code",
   "execution_count": null,
   "metadata": {},
   "outputs": [],
   "source": []
  },
  {
   "cell_type": "code",
   "execution_count": null,
   "metadata": {},
   "outputs": [],
   "source": []
  },
  {
   "cell_type": "markdown",
   "metadata": {},
   "source": [
    "# Read Reviews DataSet\n"
   ]
  },
  {
   "cell_type": "code",
   "execution_count": 105,
   "metadata": {},
   "outputs": [],
   "source": [
    "data = pd.read_csv('data/AugmentedData2.csv',index_col=False)"
   ]
  },
  {
   "cell_type": "code",
   "execution_count": 99,
   "metadata": {},
   "outputs": [
    {
     "data": {
      "text/html": [
       "<div>\n",
       "<style scoped>\n",
       "    .dataframe tbody tr th:only-of-type {\n",
       "        vertical-align: middle;\n",
       "    }\n",
       "\n",
       "    .dataframe tbody tr th {\n",
       "        vertical-align: top;\n",
       "    }\n",
       "\n",
       "    .dataframe thead th {\n",
       "        text-align: right;\n",
       "    }\n",
       "</style>\n",
       "<table border=\"1\" class=\"dataframe\">\n",
       "  <thead>\n",
       "    <tr style=\"text-align: right;\">\n",
       "      <th></th>\n",
       "      <th>text</th>\n",
       "      <th>label</th>\n",
       "    </tr>\n",
       "  </thead>\n",
       "  <tbody>\n",
       "    <tr>\n",
       "      <td>0</td>\n",
       "      <td>مرضي. . حمام السباحه لايعمل و الاضاءه في الغرف...</td>\n",
       "      <td>NEUTRAL</td>\n",
       "    </tr>\n",
       "    <tr>\n",
       "      <td>1</td>\n",
       "      <td>“جيد”. موقع الفندق. اقمت سته ايام والمسبح عليه...</td>\n",
       "      <td>NEUTRAL</td>\n",
       "    </tr>\n",
       "    <tr>\n",
       "      <td>2</td>\n",
       "      <td>مقبول. لا شي كل شي مجرد عادي . لم يعجبني عدم ا...</td>\n",
       "      <td>NEUTRAL</td>\n",
       "    </tr>\n",
       "    <tr>\n",
       "      <td>3</td>\n",
       "      <td>“الفندق عادي جدا”. . الخدمة ليست على المستوى ا...</td>\n",
       "      <td>NEUTRAL</td>\n",
       "    </tr>\n",
       "    <tr>\n",
       "      <td>4</td>\n",
       "      <td>مرضي. خدمة الزبون ومعاملة الطاقم ...والموقع .....</td>\n",
       "      <td>NEUTRAL</td>\n",
       "    </tr>\n",
       "  </tbody>\n",
       "</table>\n",
       "</div>"
      ],
      "text/plain": [
       "                                                text    label\n",
       "0  مرضي. . حمام السباحه لايعمل و الاضاءه في الغرف...  NEUTRAL\n",
       "1  “جيد”. موقع الفندق. اقمت سته ايام والمسبح عليه...  NEUTRAL\n",
       "2  مقبول. لا شي كل شي مجرد عادي . لم يعجبني عدم ا...  NEUTRAL\n",
       "3  “الفندق عادي جدا”. . الخدمة ليست على المستوى ا...  NEUTRAL\n",
       "4  مرضي. خدمة الزبون ومعاملة الطاقم ...والموقع .....  NEUTRAL"
      ]
     },
     "execution_count": 99,
     "metadata": {},
     "output_type": "execute_result"
    }
   ],
   "source": [
    "reviews = reviews[[\"rating\",\"review\"]]\n",
    "reviewspos = reviews[reviews[\"rating\"]>=4]\n",
    "reviewsneut = reviews[reviews[\"rating\"] == 3]\n",
    "reviewsneg = reviews[reviews[\"rating\"]<3]\n",
    "reviewspos.head()\n",
    "dfpos = pd.DataFrame(reviewspos.review.values,columns=['text'])\n",
    "dfpos[\"label\"] = \"POS\"\n",
    "data = data.append(dfpos,ignore_index=True,sort=False)\n",
    "dfpos = pd.DataFrame(reviewsneg.review.values,columns=['text'])\n",
    "dfpos[\"label\"] = \"NEG\"\n",
    "\n",
    "data = data.append(dfpos,ignore_index=True,sort=False)\n",
    "\n",
    "dfpos = pd.DataFrame(reviewsneut.review.values,columns=['text'])\n",
    "dfpos[\"label\"] = \"NEUTRAL\"\n",
    "data = data.append(dfpos,ignore_index=True,sort=False)\n",
    "\n",
    "\n",
    "dfpos.head()\n"
   ]
  },
  {
   "cell_type": "code",
   "execution_count": 74,
   "metadata": {},
   "outputs": [
    {
     "name": "stdout",
     "output_type": "stream",
     "text": [
      "NEG\n"
     ]
    },
    {
     "data": {
      "text/html": [
       "<div>\n",
       "<style scoped>\n",
       "    .dataframe tbody tr th:only-of-type {\n",
       "        vertical-align: middle;\n",
       "    }\n",
       "\n",
       "    .dataframe tbody tr th {\n",
       "        vertical-align: top;\n",
       "    }\n",
       "\n",
       "    .dataframe thead th {\n",
       "        text-align: right;\n",
       "    }\n",
       "</style>\n",
       "<table border=\"1\" class=\"dataframe\">\n",
       "  <thead>\n",
       "    <tr style=\"text-align: right;\">\n",
       "      <th></th>\n",
       "      <th>rating</th>\n",
       "      <th>review</th>\n",
       "    </tr>\n",
       "  </thead>\n",
       "  <tbody>\n",
       "    <tr>\n",
       "      <td>1</td>\n",
       "      <td>2</td>\n",
       "      <td>“ممتاز”. النظافة والطاقم متعاون.</td>\n",
       "    </tr>\n",
       "    <tr>\n",
       "      <td>19</td>\n",
       "      <td>1</td>\n",
       "      <td>“استغرب تقييم الفندق كخمس نجوم”. لا شي. يستحق ...</td>\n",
       "    </tr>\n",
       "    <tr>\n",
       "      <td>48</td>\n",
       "      <td>1</td>\n",
       "      <td>“أسرة اماراتية.”. فندق مبنى على الطراز الحديث،...</td>\n",
       "    </tr>\n",
       "    <tr>\n",
       "      <td>77</td>\n",
       "      <td>2</td>\n",
       "      <td>“موظف المسبح سيء جدا”. . موظف المسبح سيء جدامع...</td>\n",
       "    </tr>\n",
       "    <tr>\n",
       "      <td>80</td>\n",
       "      <td>1</td>\n",
       "      <td>“اقامة ممتعة”. . الموقع والنظافة</td>\n",
       "    </tr>\n",
       "  </tbody>\n",
       "</table>\n",
       "</div>"
      ],
      "text/plain": [
       "    rating                                             review\n",
       "1        2                  “ممتاز”. النظافة والطاقم متعاون. \n",
       "19       1  “استغرب تقييم الفندق كخمس نجوم”. لا شي. يستحق ...\n",
       "48       1  “أسرة اماراتية.”. فندق مبنى على الطراز الحديث،...\n",
       "77       2  “موظف المسبح سيء جدا”. . موظف المسبح سيء جدامع...\n",
       "80       1                   “اقامة ممتعة”. . الموقع والنظافة"
      ]
     },
     "execution_count": 74,
     "metadata": {},
     "output_type": "execute_result"
    }
   ],
   "source": [
    "print(\"NEG\")\n",
    "reviewsneg.head()\n"
   ]
  },
  {
   "cell_type": "code",
   "execution_count": 64,
   "metadata": {},
   "outputs": [
    {
     "name": "stdout",
     "output_type": "stream",
     "text": [
      "NEUT\n"
     ]
    },
    {
     "data": {
      "text/html": [
       "<div>\n",
       "<style scoped>\n",
       "    .dataframe tbody tr th:only-of-type {\n",
       "        vertical-align: middle;\n",
       "    }\n",
       "\n",
       "    .dataframe tbody tr th {\n",
       "        vertical-align: top;\n",
       "    }\n",
       "\n",
       "    .dataframe thead th {\n",
       "        text-align: right;\n",
       "    }\n",
       "</style>\n",
       "<table border=\"1\" class=\"dataframe\">\n",
       "  <thead>\n",
       "    <tr style=\"text-align: right;\">\n",
       "      <th></th>\n",
       "      <th>rating</th>\n",
       "      <th>review</th>\n",
       "    </tr>\n",
       "  </thead>\n",
       "  <tbody>\n",
       "    <tr>\n",
       "      <td>6</td>\n",
       "      <td>3</td>\n",
       "      <td>مرضي. . حمام السباحه لايعمل و الاضاءه في الغرف...</td>\n",
       "    </tr>\n",
       "    <tr>\n",
       "      <td>18</td>\n",
       "      <td>3</td>\n",
       "      <td>“جيد”. موقع الفندق. اقمت سته ايام والمسبح عليه...</td>\n",
       "    </tr>\n",
       "    <tr>\n",
       "      <td>28</td>\n",
       "      <td>3</td>\n",
       "      <td>مقبول. لا شي كل شي مجرد عادي . لم يعجبني عدم ا...</td>\n",
       "    </tr>\n",
       "    <tr>\n",
       "      <td>33</td>\n",
       "      <td>3</td>\n",
       "      <td>“الفندق عادي جدا”. . الخدمة ليست على المستوى ا...</td>\n",
       "    </tr>\n",
       "    <tr>\n",
       "      <td>36</td>\n",
       "      <td>3</td>\n",
       "      <td>مرضي. خدمة الزبون ومعاملة الطاقم ...والموقع .....</td>\n",
       "    </tr>\n",
       "  </tbody>\n",
       "</table>\n",
       "</div>"
      ],
      "text/plain": [
       "    rating                                             review\n",
       "6        3  مرضي. . حمام السباحه لايعمل و الاضاءه في الغرف...\n",
       "18       3  “جيد”. موقع الفندق. اقمت سته ايام والمسبح عليه...\n",
       "28       3  مقبول. لا شي كل شي مجرد عادي . لم يعجبني عدم ا...\n",
       "33       3  “الفندق عادي جدا”. . الخدمة ليست على المستوى ا...\n",
       "36       3  مرضي. خدمة الزبون ومعاملة الطاقم ...والموقع ....."
      ]
     },
     "execution_count": 64,
     "metadata": {},
     "output_type": "execute_result"
    }
   ],
   "source": [
    "\n",
    "print(\"NEUT\")\n",
    "reviewsneut.head()"
   ]
  },
  {
   "cell_type": "code",
   "execution_count": 66,
   "metadata": {},
   "outputs": [
    {
     "data": {
      "text/plain": [
       "276387"
      ]
     },
     "execution_count": 66,
     "metadata": {},
     "output_type": "execute_result"
    }
   ],
   "source": [
    "len(reviewspos)"
   ]
  },
  {
   "cell_type": "code",
   "execution_count": null,
   "metadata": {},
   "outputs": [],
   "source": []
  }
 ],
 "metadata": {
  "kernelspec": {
   "display_name": "Python 3",
   "language": "python",
   "name": "python3"
  },
  "language_info": {
   "codemirror_mode": {
    "name": "ipython",
    "version": 3
   },
   "file_extension": ".py",
   "mimetype": "text/x-python",
   "name": "python",
   "nbconvert_exporter": "python",
   "pygments_lexer": "ipython3",
   "version": "3.8.3"
  }
 },
 "nbformat": 4,
 "nbformat_minor": 2
}
