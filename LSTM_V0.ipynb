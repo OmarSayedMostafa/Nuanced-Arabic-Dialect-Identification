{
 "cells": [
  {
   "cell_type": "code",
   "execution_count": 1,
   "metadata": {},
   "outputs": [
    {
     "name": "stderr",
     "output_type": "stream",
     "text": [
      "C:\\Users\\Mena\\Anaconda3\\lib\\site-packages\\gensim\\utils.py:1197: UserWarning: detected Windows; aliasing chunkize to chunkize_serial\n",
      "  warnings.warn(\"detected Windows; aliasing chunkize to chunkize_serial\")\n"
     ]
    },
    {
     "name": "stdout",
     "output_type": "stream",
     "text": [
      "Train set: (20974, 8) 20974\n",
      "Test set: (4997, 8) 4997\n"
     ]
    }
   ],
   "source": [
    "import pandas as pd\n",
    "import numpy as np\n",
    "from IPython.display import display\n",
    "import matplotlib.pyplot as plt\n",
    "\n",
    "from imblearn.over_sampling import SMOTE\n",
    "import gensim\n",
    "\n",
    "from sklearn.model_selection import train_test_split\n",
    "from sklearn.linear_model import SGDClassifier\n",
    "from sklearn.naive_bayes import MultinomialNB\n",
    "from sklearn.pipeline import Pipeline\n",
    "from sklearn.feature_extraction.text import TfidfTransformer, CountVectorizer\n",
    "from sklearn.metrics import precision_recall_curve, precision_score, recall_score, classification_report, f1_score\n",
    "\n",
    "\n",
    "\n",
    "#text is already cleaned.\n",
    "#assign cleaned data to these variables.\n",
    "train_data_path = 'cleaned_data/cleaned_train_data_for_subtask1.csv'\n",
    "test_data_path = 'cleaned_data/cleaned_test_data_for_subtask1.csv'\n",
    "#read files.\n",
    "train_data = pd.read_csv(train_data_path)\n",
    "test_data = pd.read_csv(test_data_path)\n",
    "\n",
    "print(\"Train set:\"% train_data.columns, train_data.shape, len(train_data)) \n",
    "print(\"Test set:\"% test_data.columns, test_data.shape, len(test_data)) \n",
    "\n"
   ]
  },
  {
   "cell_type": "code",
   "execution_count": 10,
   "metadata": {},
   "outputs": [],
   "source": [
    "#prepare train and test data.\n",
    "X_train = train_data['#2_tweet_clean_V0']\n",
    "y_train = train_data['#classes_id']\n",
    "X_test = test_data['#2_tweet_clean_V0']\n",
    "y_test = test_data['#classes_id']"
   ]
  },
  {
   "cell_type": "code",
   "execution_count": 11,
   "metadata": {},
   "outputs": [
    {
     "name": "stdout",
     "output_type": "stream",
     "text": [
      "Found 56910 unique tokens.\n",
      "Found 19441 unique tokens.\n"
     ]
    }
   ],
   "source": [
    "from tensorflow.keras.preprocessing.text import Tokenizer\n",
    "\n",
    "max_no = 50000\n",
    "sql_len = 250\n",
    "dim = 100\n",
    "\n",
    "tokenizer = Tokenizer(num_words=max_no, filters='!\"#$%&()*+,-./:;<=>?@[\\]^_`{|}~', lower=False)\n",
    "tokenizer.fit_on_texts(X_train.values)\n",
    "word_index = tokenizer.word_index\n",
    "print('Found %s unique tokens.' % len(word_index))\n",
    "\n",
    "tokenizer = Tokenizer(num_words=max_no, filters='!\"#$%&()*+,-./:;<=>?@[\\]^_`{|}~', lower=False)\n",
    "tokenizer.fit_on_texts(X_test.values)\n",
    "word_index = tokenizer.word_index\n",
    "print('Found %s unique tokens.' % len(word_index))"
   ]
  },
  {
   "cell_type": "code",
   "execution_count": 12,
   "metadata": {},
   "outputs": [
    {
     "name": "stdout",
     "output_type": "stream",
     "text": [
      "Shape of data tensor: (20974, 250)\n",
      "Shape of data tensor: (4997, 250)\n"
     ]
    }
   ],
   "source": [
    "from tensorflow.keras.preprocessing.sequence import pad_sequences\n",
    "\n",
    "\n",
    "X_tr = tokenizer.texts_to_sequences(X_train.values)\n",
    "X_tr = pad_sequences(X_tr, maxlen=sql_len)\n",
    "print('Shape of data tensor:', X_tr.shape)\n",
    "\n",
    "X_te = tokenizer.texts_to_sequences(X_test.values)\n",
    "X_te = pad_sequences(X_te, maxlen=sql_len)\n",
    "print('Shape of data tensor:', X_te.shape)\n"
   ]
  },
  {
   "cell_type": "code",
   "execution_count": 13,
   "metadata": {},
   "outputs": [
    {
     "name": "stdout",
     "output_type": "stream",
     "text": [
      "Shape of label tensor: (20974, 21)\n",
      "Shape of label tensor: (4997, 21)\n"
     ]
    }
   ],
   "source": [
    "Y_tr = pd.get_dummies(y_train).values\n",
    "print('Shape of label tensor:', Y_tr.shape)\n",
    "\n",
    "Y_te = pd.get_dummies(y_test).values\n",
    "print('Shape of label tensor:', Y_te.shape)"
   ]
  },
  {
   "cell_type": "code",
   "execution_count": 14,
   "metadata": {},
   "outputs": [
    {
     "name": "stdout",
     "output_type": "stream",
     "text": [
      "WARNING:tensorflow:From C:\\Users\\Mena\\Anaconda3\\lib\\site-packages\\keras\\backend\\tensorflow_backend.py:422: The name tf.global_variables is deprecated. Please use tf.compat.v1.global_variables instead.\n",
      "\n",
      "Train on 18876 samples, validate on 2098 samples\n",
      "Epoch 1/20\n",
      "18876/18876 [==============================] - 308s 16ms/step - loss: 2.5825 - accuracy: 0.2331 - val_loss: 2.4416 - val_accuracy: 0.3017\n",
      "Epoch 2/20\n",
      "18876/18876 [==============================] - 271s 14ms/step - loss: 2.2520 - accuracy: 0.3482 - val_loss: 2.2904 - val_accuracy: 0.3332\n",
      "Epoch 3/20\n",
      "18876/18876 [==============================] - 289s 15ms/step - loss: 1.9664 - accuracy: 0.4387 - val_loss: 2.2856 - val_accuracy: 0.3537\n",
      "Epoch 4/20\n",
      "18876/18876 [==============================] - 278s 15ms/step - loss: 1.7246 - accuracy: 0.5083 - val_loss: 2.3568 - val_accuracy: 0.3551\n",
      "Epoch 5/20\n",
      "18876/18876 [==============================] - 300s 16ms/step - loss: 1.5197 - accuracy: 0.5630 - val_loss: 2.4240 - val_accuracy: 0.3608\n",
      "Epoch 6/20\n",
      "18876/18876 [==============================] - 300s 16ms/step - loss: 1.3435 - accuracy: 0.6135 - val_loss: 2.5688 - val_accuracy: 0.3508\n",
      "Epoch 7/20\n",
      "18876/18876 [==============================] - 288s 15ms/step - loss: 1.2014 - accuracy: 0.6531 - val_loss: 2.7061 - val_accuracy: 0.3537\n",
      "Epoch 8/20\n",
      "18876/18876 [==============================] - 280s 15ms/step - loss: 1.0833 - accuracy: 0.6881 - val_loss: 2.7976 - val_accuracy: 0.3351\n",
      "Epoch 9/20\n",
      "18876/18876 [==============================] - 307s 16ms/step - loss: 0.9801 - accuracy: 0.7145 - val_loss: 2.9509 - val_accuracy: 0.3351\n",
      "Epoch 10/20\n",
      "18876/18876 [==============================] - 289s 15ms/step - loss: 0.9049 - accuracy: 0.7373 - val_loss: 3.1388 - val_accuracy: 0.3270\n",
      "Epoch 11/20\n",
      "18876/18876 [==============================] - 274s 14ms/step - loss: 0.8340 - accuracy: 0.7522 - val_loss: 3.2493 - val_accuracy: 0.3265\n",
      "Epoch 12/20\n",
      "18876/18876 [==============================] - 288s 15ms/step - loss: 0.7825 - accuracy: 0.7659 - val_loss: 3.2346 - val_accuracy: 0.3227\n",
      "Epoch 13/20\n",
      "18876/18876 [==============================] - 267s 14ms/step - loss: 0.7363 - accuracy: 0.7805 - val_loss: 3.4629 - val_accuracy: 0.3217\n",
      "Epoch 14/20\n",
      "18876/18876 [==============================] - 264s 14ms/step - loss: 0.6931 - accuracy: 0.7887 - val_loss: 3.5396 - val_accuracy: 0.3179\n",
      "Epoch 15/20\n",
      "18876/18876 [==============================] - 256s 14ms/step - loss: 0.6639 - accuracy: 0.7967 - val_loss: 3.6173 - val_accuracy: 0.3174\n",
      "Epoch 16/20\n",
      "18876/18876 [==============================] - 258s 14ms/step - loss: 0.6324 - accuracy: 0.8057 - val_loss: 3.7772 - val_accuracy: 0.3127\n",
      "Epoch 17/20\n",
      "18876/18876 [==============================] - 302s 16ms/step - loss: 0.6086 - accuracy: 0.8100 - val_loss: 3.8700 - val_accuracy: 0.3251\n",
      "Epoch 18/20\n",
      "18876/18876 [==============================] - 293s 16ms/step - loss: 0.5844 - accuracy: 0.8187 - val_loss: 3.8779 - val_accuracy: 0.3174\n",
      "Epoch 19/20\n",
      "18876/18876 [==============================] - 277s 15ms/step - loss: 0.5635 - accuracy: 0.8228 - val_loss: 3.9948 - val_accuracy: 0.3136\n",
      "Epoch 20/20\n",
      "18876/18876 [==============================] - 266s 14ms/step - loss: 0.5383 - accuracy: 0.8304 - val_loss: 4.0820 - val_accuracy: 0.3179\n"
     ]
    }
   ],
   "source": [
    "import keras\n",
    "import tensorflow\n",
    "from keras.layers import Embedding, SpatialDropout1D, LSTM, Dense\n",
    "#import tensorsflow_addons as tfa\n",
    "model = keras.Sequential()\n",
    "model.add(Embedding(max_no, dim, input_shape=(sql_len,)))\n",
    "model.add(SpatialDropout1D(0.2))\n",
    "model.add(LSTM(100, dropout=0.2, recurrent_dropout=0.2))\n",
    "model.add(Dense(21, activation='softmax'))\n",
    "model.compile(loss='categorical_crossentropy', optimizer='adam', metrics=['accuracy'])\n",
    "\n",
    "epochs = 20\n",
    "batch_size = 64\n",
    "\n",
    "history = model.fit(X_tr, Y_tr, epochs=epochs, batch_size=batch_size,validation_split=0.1)"
   ]
  },
  {
   "cell_type": "code",
   "execution_count": 32,
   "metadata": {},
   "outputs": [
    {
     "name": "stdout",
     "output_type": "stream",
     "text": [
      "0.16382330864112168\n"
     ]
    }
   ],
   "source": [
    "y_pred= model.predict(X_te)\n",
    "y_pred = np.argmax(y_pred, axis=1)\n",
    "y_test = test_data['#classes_id']\n",
    "Y_te = pd.get_dummies(y_test).values\n",
    "\n",
    "Y_te = np.argmax(Y_te, axis=1)\n",
    "print(f1_score(Y_te, y_pred, average='macro'))\n"
   ]
  },
  {
   "cell_type": "code",
   "execution_count": 33,
   "metadata": {},
   "outputs": [
    {
     "name": "stdout",
     "output_type": "stream",
     "text": [
      "                      precision    recall  f1-score   support\n",
      "\n",
      "               Egypt       0.55      0.59      0.57      1041\n",
      "                Iraq       0.41      0.41      0.41       663\n",
      "        Saudi_Arabia       0.23      0.32      0.27       519\n",
      "          Mauritania       0.36      0.28      0.32        53\n",
      "             Algeria       0.39      0.37      0.38       430\n",
      "               Syria       0.11      0.13      0.12       278\n",
      "                Oman       0.20      0.15      0.17       355\n",
      "             Tunisia       0.19      0.16      0.17       172\n",
      "             Lebanon       0.09      0.08      0.08       157\n",
      "             Morocco       0.14      0.17      0.16       207\n",
      "            Djibouti       0.00      0.00      0.00        27\n",
      "United_Arab_Emirates       0.10      0.12      0.11       157\n",
      "              Kuwait       0.06      0.05      0.05       105\n",
      "               Libya       0.32      0.23      0.26       314\n",
      "             Bahrain       0.00      0.00      0.00        52\n",
      "               Qatar       0.02      0.02      0.02        52\n",
      "               Yemen       0.05      0.04      0.04       105\n",
      "           Palestine       0.09      0.08      0.08       104\n",
      "              Jordan       0.04      0.03      0.03       104\n",
      "             Somalia       0.14      0.06      0.09        49\n",
      "               Sudan       0.13      0.09      0.11        53\n",
      "\n",
      "         avg / total       0.30      0.30      0.30      4997\n",
      "\n"
     ]
    }
   ],
   "source": [
    "target_names = list(train_data[\"#3_country_label\"].unique())\n",
    "print(classification_report(Y_te, y_pred,target_names=target_names))"
   ]
  },
  {
   "cell_type": "code",
   "execution_count": null,
   "metadata": {},
   "outputs": [],
   "source": []
  }
 ],
 "metadata": {
  "kernelspec": {
   "display_name": "Python 3",
   "language": "python",
   "name": "python3"
  },
  "language_info": {
   "codemirror_mode": {
    "name": "ipython",
    "version": 3
   },
   "file_extension": ".py",
   "mimetype": "text/x-python",
   "name": "python",
   "nbconvert_exporter": "python",
   "pygments_lexer": "ipython3",
   "version": "3.7.3"
  }
 },
 "nbformat": 4,
 "nbformat_minor": 2
}
