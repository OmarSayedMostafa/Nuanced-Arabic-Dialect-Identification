{
 "cells": [
  {
   "cell_type": "markdown",
   "metadata": {
    "colab_type": "text",
    "id": "N7nlMRmcJp7_"
   },
   "source": [
    "## Integrate [AraVec](https://github.com/bakrianoo/aravec) with [Spacy.io](https://spacy.io/)\n",
    "\n",
    "This notebook demonstrates how to integrate an [AraVec](https://github.com/bakrianoo/aravec) model with [spaCy.io](https://spacy.io/)\n",
    "\n",
    "## Outlines\n",
    "\n",
    "- Install/Load the required modules\n",
    "- Load AraVec\n",
    "- Export the Word2Vec format + gzip it.\n",
    "- Initialize the spaCy model using AraVec vectors\n",
    "- Run Your AraVec Spacy Model\n",
    "- Test the Model"
   ]
  },
  {
   "cell_type": "markdown",
   "metadata": {
    "colab_type": "text",
    "id": "aDX5kzUJJp8B"
   },
   "source": [
    "## Install/Load the required modules"
   ]
  },
  {
   "cell_type": "code",
   "execution_count": 2,
   "metadata": {
    "ExecuteTime": {
     "end_time": "2020-04-27T22:45:44.689719Z",
     "start_time": "2020-04-27T22:45:42.787139Z"
    },
    "colab": {},
    "colab_type": "code",
    "id": "qrruGV8IJp8C"
   },
   "outputs": [],
   "source": [
    "# !pip install gensim spacy nltk"
   ]
  },
  {
   "cell_type": "code",
   "execution_count": 3,
   "metadata": {
    "colab": {},
    "colab_type": "code",
    "id": "Jr-fEfMknBZH"
   },
   "outputs": [],
   "source": [
    "import gensim\n",
    "import re\n",
    "import spacy\n",
    "\n",
    "# Clean/Normalize Arabic Text\n",
    "def clean_str(text):\n",
    "    search = [\"أ\",\"إ\",\"آ\",\"ة\",\"_\",\"-\",\"/\",\".\",\"،\",\" و \",\" يا \",'\"',\"ـ\",\"'\",\"ى\",\"\\\\\",'\\n', '\\t','&quot;','?','؟','!']\n",
    "    replace = [\"ا\",\"ا\",\"ا\",\"ه\",\" \",\" \",\"\",\"\",\"\",\" و\",\" يا\",\"\",\"\",\"\",\"ي\",\"\",' ', ' ',' ',' ? ',' ؟ ',' ! ']\n",
    "    \n",
    "    #remove tashkeel\n",
    "    p_tashkeel = re.compile(r'[\\u0617-\\u061A\\u064B-\\u0652]')\n",
    "    text = re.sub(p_tashkeel,\"\", text)\n",
    "    \n",
    "    #remove longation\n",
    "    p_longation = re.compile(r'(.)\\1+')\n",
    "    subst = r\"\\1\\1\"\n",
    "    text = re.sub(p_longation, subst, text)\n",
    "    \n",
    "    text = text.replace('وو', 'و')\n",
    "    text = text.replace('يي', 'ي')\n",
    "    text = text.replace('اا', 'ا')\n",
    "    \n",
    "    for i in range(0, len(search)):\n",
    "        text = text.replace(search[i], replace[i])\n",
    "    \n",
    "    #trim    \n",
    "    text = text.strip()\n",
    "\n",
    "    return text"
   ]
  },
  {
   "cell_type": "markdown",
   "metadata": {
    "colab_type": "text",
    "id": "8_-qAgYQJp8L"
   },
   "source": [
    "## Load AraVec\n",
    "Download a model from the [AraVec Repository](https://github.com/bakrianoo/aravec), then follow the below steps to load it."
   ]
  },
  {
   "cell_type": "code",
   "execution_count": 5,
   "metadata": {
    "colab": {},
    "colab_type": "code",
    "id": "T5a8VHhbij2f"
   },
   "outputs": [
    {
     "name": "stdout",
     "output_type": "stream",
     "text": [
      "--2021-01-16 18:53:21--  https://bakrianoo.sfo2.digitaloceanspaces.com/aravec/full_grams_cbow_100_twitter.zip\n",
      "Resolving bakrianoo.sfo2.digitaloceanspaces.com (bakrianoo.sfo2.digitaloceanspaces.com)... 138.68.32.225\n",
      "Connecting to bakrianoo.sfo2.digitaloceanspaces.com (bakrianoo.sfo2.digitaloceanspaces.com)|138.68.32.225|:443... connected.\n",
      "HTTP request sent, awaiting response... 404 Not Found\n",
      "2021-01-16 18:53:22 ERROR 404: Not Found.\n",
      "\n"
     ]
    }
   ],
   "source": [
    "# Download via terminal commands\n",
    "!wget \"https://bakrianoo.sfo2.digitaloceanspaces.com/aravec/full_grams_cbow_100_twitter.zip\"\n",
    "# !unzip \"full_grams_cbow_100_twitter.zip\""
   ]
  },
  {
   "cell_type": "code",
   "execution_count": 10,
   "metadata": {
    "colab": {
     "base_uri": "https://localhost:8080/",
     "height": 34
    },
    "colab_type": "code",
    "id": "Mjs_I0TUjGMP",
    "outputId": "978ffd5e-5512-4931-d0ec-6c1a86fb01d2"
   },
   "outputs": [
    {
     "name": "stdout",
     "output_type": "stream",
     "text": [
      "We've 1476715 vocabularies\n"
     ]
    }
   ],
   "source": [
    "# load the AraVec model\n",
    "model = gensim.models.Word2Vec.load(\"full_grams_cbow_100_twitter.mdl\")\n",
    "print(\"We've\",len(model.wv.index2word),\"vocabularies\")"
   ]
  },
  {
   "cell_type": "markdown",
   "metadata": {
    "colab_type": "text",
    "id": "Ll25Yq9KJp8d"
   },
   "source": [
    "## Export the Word2Vec format + gzip it."
   ]
  },
  {
   "cell_type": "code",
   "execution_count": 0,
   "metadata": {
    "ExecuteTime": {
     "end_time": "2020-04-28T13:04:35.872005Z",
     "start_time": "2020-04-28T13:04:35.750353Z"
    },
    "colab": {},
    "colab_type": "code",
    "id": "eYO6GPSSJp8e"
   },
   "outputs": [],
   "source": [
    "# make a directory called \"spacyModel\"\n",
    "%mkdir spacyModel"
   ]
  },
  {
   "cell_type": "code",
   "execution_count": 0,
   "metadata": {
    "ExecuteTime": {
     "end_time": "2020-04-28T13:05:07.649631Z",
     "start_time": "2020-04-28T13:04:37.108481Z"
    },
    "colab": {},
    "colab_type": "code",
    "id": "qrISD4ONJp8g"
   },
   "outputs": [],
   "source": [
    "# export the word2vec fomart to the directory\n",
    "model.wv.save_word2vec_format(\"./spacyModel/aravec.txt\")"
   ]
  },
  {
   "cell_type": "code",
   "execution_count": 0,
   "metadata": {
    "ExecuteTime": {
     "end_time": "2020-04-28T13:05:47.899536Z",
     "start_time": "2020-04-28T13:05:07.650778Z"
    },
    "colab": {},
    "colab_type": "code",
    "id": "BvpYpLXHJp8k"
   },
   "outputs": [],
   "source": [
    "# using `gzip` to compress the .txt file\n",
    "!gzip ./spacyModel/aravec.txt"
   ]
  },
  {
   "cell_type": "markdown",
   "metadata": {
    "colab_type": "text",
    "id": "mIEFJtxSJp8n"
   },
   "source": [
    "## Initialize the spaCy model using AraVec vectors\n",
    "\n",
    "- This will create a folder called `/spacy.aravec.model` within your current working directory.\n",
    "- This step could take several minutes to be completed."
   ]
  },
  {
   "cell_type": "code",
   "execution_count": 14,
   "metadata": {
    "ExecuteTime": {
     "end_time": "2020-04-28T13:06:08.570498Z",
     "start_time": "2020-04-28T13:05:49.692840Z"
    },
    "colab": {
     "base_uri": "https://localhost:8080/",
     "height": 101
    },
    "colab_type": "code",
    "id": "klLd5QoeJp8o",
    "outputId": "95ec1a6d-1a6d-4edd-a464-960ed014db3e"
   },
   "outputs": [
    {
     "name": "stdout",
     "output_type": "stream",
     "text": [
      "\u001b[2K\u001b[38;5;2m✔ Successfully created model\u001b[0m\n",
      "1476715it [01:04, 22923.32it/s]\n",
      "\u001b[2K\u001b[38;5;2m✔ Loaded vectors from spacyModel/aravec.txt.gz\u001b[0m\n",
      "\u001b[38;5;2m✔ Sucessfully compiled vocab\u001b[0m\n",
      "1476903 entries, 1476715 vectors\n"
     ]
    }
   ],
   "source": [
    "!python -m spacy  init-model ar spacy.aravec.model --vectors-loc ./spacyModel/aravec.txt.gz"
   ]
  },
  {
   "cell_type": "markdown",
   "metadata": {
    "colab_type": "text",
    "id": "ReikgJ93Jp8r"
   },
   "source": [
    "## Run Your AraVec Spacy Model\n"
   ]
  },
  {
   "cell_type": "code",
   "execution_count": 0,
   "metadata": {
    "ExecuteTime": {
     "end_time": "2020-04-28T13:06:25.120513Z",
     "start_time": "2020-04-28T13:06:24.032773Z"
    },
    "colab": {},
    "colab_type": "code",
    "id": "ab-Hnj4kJp8r"
   },
   "outputs": [],
   "source": [
    "# load AraVec Spacy model\n",
    "nlp = spacy.load(\"./spacy.aravec.model/\")"
   ]
  },
  {
   "cell_type": "code",
   "execution_count": 0,
   "metadata": {
    "colab": {},
    "colab_type": "code",
    "id": "1Efk9S9onT4V"
   },
   "outputs": [],
   "source": [
    "# Define the preprocessing Class\n",
    "class Preprocessor:\n",
    "    def __init__(self, tokenizer, **cfg):\n",
    "        self.tokenizer = tokenizer\n",
    "\n",
    "    def __call__(self, text):\n",
    "        preprocessed = clean_str(text)\n",
    "        return self.tokenizer(preprocessed)"
   ]
  },
  {
   "cell_type": "code",
   "execution_count": 0,
   "metadata": {
    "colab": {},
    "colab_type": "code",
    "id": "9CIWoqhInihz"
   },
   "outputs": [],
   "source": [
    "# Apply the `Preprocessor` Class\n",
    "nlp.tokenizer = Preprocessor(nlp.tokenizer)"
   ]
  },
  {
   "cell_type": "markdown",
   "metadata": {
    "colab_type": "text",
    "id": "zYzrWSHLn0sM"
   },
   "source": [
    "## Test the Model"
   ]
  },
  {
   "cell_type": "code",
   "execution_count": 22,
   "metadata": {
    "colab": {
     "base_uri": "https://localhost:8080/",
     "height": 370
    },
    "colab_type": "code",
    "id": "X8QZEGiunuUT",
    "outputId": "fdc0f830-c37b-4323-ba2c-f102d2c15fe9"
   },
   "outputs": [
    {
     "data": {
      "text/plain": [
       "array([ 0.6214019 ,  2.664876  , -2.4490244 , -0.13141291,  1.0106287 ,\n",
       "        1.4277642 , -0.6019407 , -0.37155798,  2.2610269 , -0.51503485,\n",
       "       -1.7400011 ,  1.4599515 ,  1.3110927 ,  0.4506139 ,  1.1511235 ,\n",
       "       -2.3989084 ,  0.0108205 , -0.93597263,  0.20742278,  2.7626824 ,\n",
       "       -0.21789424, -2.6269352 , -0.033042  , -2.0458148 ,  1.4766251 ,\n",
       "       -2.589866  , -1.7341375 , -1.5589778 ,  0.57571614,  4.2727513 ,\n",
       "        0.02701492,  1.77316   , -1.1816478 ,  0.24516247, -0.04227808,\n",
       "        0.57215565,  3.2628767 , -1.2422727 ,  1.2351261 ,  1.7213373 ,\n",
       "       -2.2107098 ,  3.334359  ,  0.835815  ,  0.27691752, -0.61994714,\n",
       "        2.0607152 , -0.33151346,  2.132865  , -1.1516991 , -0.39679298,\n",
       "       -2.1682317 ,  1.5982645 , -1.1571178 ,  1.3672193 , -0.81996626,\n",
       "        0.5634883 ,  0.8571397 ,  1.2602032 ,  1.5811064 , -2.6346667 ,\n",
       "       -0.21950944, -1.7665412 ,  1.3162723 , -0.9176698 , -0.5075662 ,\n",
       "       -0.6396452 , -0.57308793,  2.6602883 ,  1.466169  , -0.54523975,\n",
       "        1.0440696 , -0.8016639 ,  0.95874494, -0.8008114 ,  1.4913949 ,\n",
       "        0.9796351 , -1.3504812 , -0.16031194,  0.779816  , -2.036837  ,\n",
       "        0.5117812 , -1.174033  ,  3.356553  ,  1.5459414 , -1.1024675 ,\n",
       "        1.4124179 ,  1.0076581 , -0.23065878,  3.9290988 ,  0.24867593,\n",
       "       -0.8912038 ,  0.7108348 ,  0.40351257,  3.1929119 , -0.7811022 ,\n",
       "       -2.341077  ,  0.38009226, -0.7102923 , -0.6132934 , -0.88354295],\n",
       "      dtype=float32)"
      ]
     },
     "execution_count": 22,
     "metadata": {
      "tags": []
     },
     "output_type": "execute_result"
    }
   ],
   "source": [
    "# Test your model\n",
    "nlp(\"قطة\").vector"
   ]
  },
  {
   "cell_type": "code",
   "execution_count": 24,
   "metadata": {
    "colab": {
     "base_uri": "https://localhost:8080/",
     "height": 50
    },
    "colab_type": "code",
    "id": "q25t-eoAn0Kj",
    "outputId": "01491f6f-8739-4d07-8dc6-a3b3b2c9be23"
   },
   "outputs": [
    {
     "name": "stdout",
     "output_type": "stream",
     "text": [
      "egypt Vs. tunisia =  0.8277813628455393\n",
      "egypt Vs. apple =  0.09689554003631644\n"
     ]
    }
   ],
   "source": [
    "egypt = nlp(\"مصر\")\n",
    "tunisia = nlp(\"تونس\")\n",
    "apple = nlp(\"تفاح\")\n",
    "\n",
    "print(\"egypt Vs. tunisia = \", egypt.similarity(tunisia))\n",
    "print(\"egypt Vs. apple = \", egypt.similarity(apple))"
   ]
  },
  {
   "cell_type": "markdown",
   "metadata": {
    "colab_type": "text",
    "id": "4iFhK4f-Jp9G"
   },
   "source": [
    "## Done !!\n",
    "\n",
    "Congratulations, now you have your AraVec model running on spaCy."
   ]
  }
 ],
 "metadata": {
  "colab": {
   "collapsed_sections": [],
   "name": "aravec-with-spacy.ipynb",
   "provenance": []
  },
  "kernelspec": {
   "display_name": "Python 3",
   "language": "python",
   "name": "python3"
  },
  "language_info": {
   "codemirror_mode": {
    "name": "ipython",
    "version": 3
   },
   "file_extension": ".py",
   "mimetype": "text/x-python",
   "name": "python",
   "nbconvert_exporter": "python",
   "pygments_lexer": "ipython3",
   "version": "3.7.9"
  }
 },
 "nbformat": 4,
 "nbformat_minor": 1
}
